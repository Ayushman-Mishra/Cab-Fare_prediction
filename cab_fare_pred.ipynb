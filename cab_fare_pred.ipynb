{
 "cells": [
  {
   "cell_type": "code",
   "execution_count": 2866,
   "metadata": {},
   "outputs": [],
   "source": [
    "import os\n",
    "import pandas as pd\n",
    "import numpy as np\n",
    "import seaborn as sns\n",
    "import matplotlib.pyplot as plt\n",
    "from math import radians, cos, sin, asin, sqrt\n",
    "from fancyimpute import KNN\n",
    "from scipy.stats import chi2_contingency\n",
    "from datetime import datetime, timedelta \n",
    "from sklearn.model_selection import train_test_split\n",
    "from sklearn.metrics import roc_auc_score, r2_score, mean_absolute_error,mean_squared_error\n",
    "from sklearn.linear_model import LinearRegression\n",
    "from sklearn.ensemble import RandomForestRegressor\n",
    "from sklearn.tree import DecisionTreeRegressor\n",
    "from xgboost import XGBRegressor\n",
    "import xgboost as xgb\n",
    "from sklearn.model_selection import RandomizedSearchCV\n",
    "from sklearn.externals import joblib\n",
    "%matplotlib inline"
   ]
  },
  {
   "cell_type": "code",
   "execution_count": 2867,
   "metadata": {},
   "outputs": [
    {
     "name": "stdout",
     "output_type": "stream",
     "text": [
      "C:\\Users\\M1053735\\Pictures\\Cab_Fare_pred\n"
     ]
    }
   ],
   "source": [
    "#change working directory\n",
    "os.chdir(r\"C:\\Users\\M1053735\\Pictures\\Cab_Fare_pred\")\n",
    "print(os.getcwd())"
   ]
  },
  {
   "cell_type": "code",
   "execution_count": 2868,
   "metadata": {},
   "outputs": [],
   "source": [
    "#Reading the Data\n",
    "train_df = pd.read_csv(\"train_cab.csv\")\n",
    "test_df = pd.read_csv(\"test.csv\")"
   ]
  },
  {
   "cell_type": "markdown",
   "metadata": {},
   "source": [
    "# Exploring The Data"
   ]
  },
  {
   "cell_type": "code",
   "execution_count": 2869,
   "metadata": {},
   "outputs": [
    {
     "data": {
      "text/html": [
       "<div>\n",
       "<style scoped>\n",
       "    .dataframe tbody tr th:only-of-type {\n",
       "        vertical-align: middle;\n",
       "    }\n",
       "\n",
       "    .dataframe tbody tr th {\n",
       "        vertical-align: top;\n",
       "    }\n",
       "\n",
       "    .dataframe thead th {\n",
       "        text-align: right;\n",
       "    }\n",
       "</style>\n",
       "<table border=\"1\" class=\"dataframe\">\n",
       "  <thead>\n",
       "    <tr style=\"text-align: right;\">\n",
       "      <th></th>\n",
       "      <th>fare_amount</th>\n",
       "      <th>pickup_datetime</th>\n",
       "      <th>pickup_longitude</th>\n",
       "      <th>pickup_latitude</th>\n",
       "      <th>dropoff_longitude</th>\n",
       "      <th>dropoff_latitude</th>\n",
       "      <th>passenger_count</th>\n",
       "    </tr>\n",
       "  </thead>\n",
       "  <tbody>\n",
       "    <tr>\n",
       "      <th>0</th>\n",
       "      <td>4.5</td>\n",
       "      <td>2009-06-15 17:26:21 UTC</td>\n",
       "      <td>-73.844311</td>\n",
       "      <td>40.721319</td>\n",
       "      <td>-73.841610</td>\n",
       "      <td>40.712278</td>\n",
       "      <td>1.0</td>\n",
       "    </tr>\n",
       "    <tr>\n",
       "      <th>1</th>\n",
       "      <td>16.9</td>\n",
       "      <td>2010-01-05 16:52:16 UTC</td>\n",
       "      <td>-74.016048</td>\n",
       "      <td>40.711303</td>\n",
       "      <td>-73.979268</td>\n",
       "      <td>40.782004</td>\n",
       "      <td>1.0</td>\n",
       "    </tr>\n",
       "    <tr>\n",
       "      <th>2</th>\n",
       "      <td>5.7</td>\n",
       "      <td>2011-08-18 00:35:00 UTC</td>\n",
       "      <td>-73.982738</td>\n",
       "      <td>40.761270</td>\n",
       "      <td>-73.991242</td>\n",
       "      <td>40.750562</td>\n",
       "      <td>2.0</td>\n",
       "    </tr>\n",
       "    <tr>\n",
       "      <th>3</th>\n",
       "      <td>7.7</td>\n",
       "      <td>2012-04-21 04:30:42 UTC</td>\n",
       "      <td>-73.987130</td>\n",
       "      <td>40.733143</td>\n",
       "      <td>-73.991567</td>\n",
       "      <td>40.758092</td>\n",
       "      <td>1.0</td>\n",
       "    </tr>\n",
       "    <tr>\n",
       "      <th>4</th>\n",
       "      <td>5.3</td>\n",
       "      <td>2010-03-09 07:51:00 UTC</td>\n",
       "      <td>-73.968095</td>\n",
       "      <td>40.768008</td>\n",
       "      <td>-73.956655</td>\n",
       "      <td>40.783762</td>\n",
       "      <td>1.0</td>\n",
       "    </tr>\n",
       "  </tbody>\n",
       "</table>\n",
       "</div>"
      ],
      "text/plain": [
       "  fare_amount          pickup_datetime  pickup_longitude  pickup_latitude  \\\n",
       "0         4.5  2009-06-15 17:26:21 UTC        -73.844311        40.721319   \n",
       "1        16.9  2010-01-05 16:52:16 UTC        -74.016048        40.711303   \n",
       "2         5.7  2011-08-18 00:35:00 UTC        -73.982738        40.761270   \n",
       "3         7.7  2012-04-21 04:30:42 UTC        -73.987130        40.733143   \n",
       "4         5.3  2010-03-09 07:51:00 UTC        -73.968095        40.768008   \n",
       "\n",
       "   dropoff_longitude  dropoff_latitude  passenger_count  \n",
       "0         -73.841610         40.712278              1.0  \n",
       "1         -73.979268         40.782004              1.0  \n",
       "2         -73.991242         40.750562              2.0  \n",
       "3         -73.991567         40.758092              1.0  \n",
       "4         -73.956655         40.783762              1.0  "
      ]
     },
     "execution_count": 2869,
     "metadata": {},
     "output_type": "execute_result"
    }
   ],
   "source": [
    "train_df.head()"
   ]
  },
  {
   "cell_type": "code",
   "execution_count": 2870,
   "metadata": {},
   "outputs": [
    {
     "data": {
      "text/html": [
       "<div>\n",
       "<style scoped>\n",
       "    .dataframe tbody tr th:only-of-type {\n",
       "        vertical-align: middle;\n",
       "    }\n",
       "\n",
       "    .dataframe tbody tr th {\n",
       "        vertical-align: top;\n",
       "    }\n",
       "\n",
       "    .dataframe thead th {\n",
       "        text-align: right;\n",
       "    }\n",
       "</style>\n",
       "<table border=\"1\" class=\"dataframe\">\n",
       "  <thead>\n",
       "    <tr style=\"text-align: right;\">\n",
       "      <th></th>\n",
       "      <th>pickup_datetime</th>\n",
       "      <th>pickup_longitude</th>\n",
       "      <th>pickup_latitude</th>\n",
       "      <th>dropoff_longitude</th>\n",
       "      <th>dropoff_latitude</th>\n",
       "      <th>passenger_count</th>\n",
       "    </tr>\n",
       "  </thead>\n",
       "  <tbody>\n",
       "    <tr>\n",
       "      <th>0</th>\n",
       "      <td>2015-01-27 13:08:24 UTC</td>\n",
       "      <td>-73.973320</td>\n",
       "      <td>40.763805</td>\n",
       "      <td>-73.981430</td>\n",
       "      <td>40.743835</td>\n",
       "      <td>1</td>\n",
       "    </tr>\n",
       "    <tr>\n",
       "      <th>1</th>\n",
       "      <td>2015-01-27 13:08:24 UTC</td>\n",
       "      <td>-73.986862</td>\n",
       "      <td>40.719383</td>\n",
       "      <td>-73.998886</td>\n",
       "      <td>40.739201</td>\n",
       "      <td>1</td>\n",
       "    </tr>\n",
       "    <tr>\n",
       "      <th>2</th>\n",
       "      <td>2011-10-08 11:53:44 UTC</td>\n",
       "      <td>-73.982524</td>\n",
       "      <td>40.751260</td>\n",
       "      <td>-73.979654</td>\n",
       "      <td>40.746139</td>\n",
       "      <td>1</td>\n",
       "    </tr>\n",
       "    <tr>\n",
       "      <th>3</th>\n",
       "      <td>2012-12-01 21:12:12 UTC</td>\n",
       "      <td>-73.981160</td>\n",
       "      <td>40.767807</td>\n",
       "      <td>-73.990448</td>\n",
       "      <td>40.751635</td>\n",
       "      <td>1</td>\n",
       "    </tr>\n",
       "    <tr>\n",
       "      <th>4</th>\n",
       "      <td>2012-12-01 21:12:12 UTC</td>\n",
       "      <td>-73.966046</td>\n",
       "      <td>40.789775</td>\n",
       "      <td>-73.988565</td>\n",
       "      <td>40.744427</td>\n",
       "      <td>1</td>\n",
       "    </tr>\n",
       "  </tbody>\n",
       "</table>\n",
       "</div>"
      ],
      "text/plain": [
       "           pickup_datetime  pickup_longitude  pickup_latitude  \\\n",
       "0  2015-01-27 13:08:24 UTC        -73.973320        40.763805   \n",
       "1  2015-01-27 13:08:24 UTC        -73.986862        40.719383   \n",
       "2  2011-10-08 11:53:44 UTC        -73.982524        40.751260   \n",
       "3  2012-12-01 21:12:12 UTC        -73.981160        40.767807   \n",
       "4  2012-12-01 21:12:12 UTC        -73.966046        40.789775   \n",
       "\n",
       "   dropoff_longitude  dropoff_latitude  passenger_count  \n",
       "0         -73.981430         40.743835                1  \n",
       "1         -73.998886         40.739201                1  \n",
       "2         -73.979654         40.746139                1  \n",
       "3         -73.990448         40.751635                1  \n",
       "4         -73.988565         40.744427                1  "
      ]
     },
     "execution_count": 2870,
     "metadata": {},
     "output_type": "execute_result"
    }
   ],
   "source": [
    "test_df.head()"
   ]
  },
  {
   "cell_type": "markdown",
   "metadata": {},
   "source": [
    "\n",
    "The details of data attributes in the dataset are as follows:\n",
    "\n",
    "    pickup_datetime - timestamp value indicating when the cab ride started.\n",
    "    pickup_longitude - float for longitude coordinate of where the cab ride started.\n",
    "    pickup_latitude - float for latitude coordinate of where the cab ride started.\n",
    "    dropoff_longitude - float for longitude coordinate of where the cab ride ended.\n",
    "    dropoff_latitude - float for latitude coordinate of where the cab ride ended.\n",
    "    passenger_count - an integer indicating the number of passengers in the cab ride.\n"
   ]
  },
  {
   "cell_type": "code",
   "execution_count": 2871,
   "metadata": {},
   "outputs": [
    {
     "data": {
      "text/html": [
       "<div>\n",
       "<style scoped>\n",
       "    .dataframe tbody tr th:only-of-type {\n",
       "        vertical-align: middle;\n",
       "    }\n",
       "\n",
       "    .dataframe tbody tr th {\n",
       "        vertical-align: top;\n",
       "    }\n",
       "\n",
       "    .dataframe thead th {\n",
       "        text-align: right;\n",
       "    }\n",
       "</style>\n",
       "<table border=\"1\" class=\"dataframe\">\n",
       "  <thead>\n",
       "    <tr style=\"text-align: right;\">\n",
       "      <th></th>\n",
       "      <th>pickup_longitude</th>\n",
       "      <th>pickup_latitude</th>\n",
       "      <th>dropoff_longitude</th>\n",
       "      <th>dropoff_latitude</th>\n",
       "      <th>passenger_count</th>\n",
       "    </tr>\n",
       "  </thead>\n",
       "  <tbody>\n",
       "    <tr>\n",
       "      <th>count</th>\n",
       "      <td>16067.000000</td>\n",
       "      <td>16067.000000</td>\n",
       "      <td>16067.000000</td>\n",
       "      <td>16067.000000</td>\n",
       "      <td>16012.000000</td>\n",
       "    </tr>\n",
       "    <tr>\n",
       "      <th>mean</th>\n",
       "      <td>-72.462787</td>\n",
       "      <td>39.914725</td>\n",
       "      <td>-72.462328</td>\n",
       "      <td>39.897906</td>\n",
       "      <td>2.625070</td>\n",
       "    </tr>\n",
       "    <tr>\n",
       "      <th>std</th>\n",
       "      <td>10.578384</td>\n",
       "      <td>6.826587</td>\n",
       "      <td>10.575062</td>\n",
       "      <td>6.187087</td>\n",
       "      <td>60.844122</td>\n",
       "    </tr>\n",
       "    <tr>\n",
       "      <th>min</th>\n",
       "      <td>-74.438233</td>\n",
       "      <td>-74.006893</td>\n",
       "      <td>-74.429332</td>\n",
       "      <td>-74.006377</td>\n",
       "      <td>0.000000</td>\n",
       "    </tr>\n",
       "    <tr>\n",
       "      <th>25%</th>\n",
       "      <td>-73.992156</td>\n",
       "      <td>40.734927</td>\n",
       "      <td>-73.991182</td>\n",
       "      <td>40.734651</td>\n",
       "      <td>1.000000</td>\n",
       "    </tr>\n",
       "    <tr>\n",
       "      <th>50%</th>\n",
       "      <td>-73.981698</td>\n",
       "      <td>40.752603</td>\n",
       "      <td>-73.980172</td>\n",
       "      <td>40.753567</td>\n",
       "      <td>1.000000</td>\n",
       "    </tr>\n",
       "    <tr>\n",
       "      <th>75%</th>\n",
       "      <td>-73.966838</td>\n",
       "      <td>40.767381</td>\n",
       "      <td>-73.963643</td>\n",
       "      <td>40.768013</td>\n",
       "      <td>2.000000</td>\n",
       "    </tr>\n",
       "    <tr>\n",
       "      <th>max</th>\n",
       "      <td>40.766125</td>\n",
       "      <td>401.083332</td>\n",
       "      <td>40.802437</td>\n",
       "      <td>41.366138</td>\n",
       "      <td>5345.000000</td>\n",
       "    </tr>\n",
       "  </tbody>\n",
       "</table>\n",
       "</div>"
      ],
      "text/plain": [
       "       pickup_longitude  pickup_latitude  dropoff_longitude  dropoff_latitude  \\\n",
       "count      16067.000000     16067.000000       16067.000000      16067.000000   \n",
       "mean         -72.462787        39.914725         -72.462328         39.897906   \n",
       "std           10.578384         6.826587          10.575062          6.187087   \n",
       "min          -74.438233       -74.006893         -74.429332        -74.006377   \n",
       "25%          -73.992156        40.734927         -73.991182         40.734651   \n",
       "50%          -73.981698        40.752603         -73.980172         40.753567   \n",
       "75%          -73.966838        40.767381         -73.963643         40.768013   \n",
       "max           40.766125       401.083332          40.802437         41.366138   \n",
       "\n",
       "       passenger_count  \n",
       "count     16012.000000  \n",
       "mean          2.625070  \n",
       "std          60.844122  \n",
       "min           0.000000  \n",
       "25%           1.000000  \n",
       "50%           1.000000  \n",
       "75%           2.000000  \n",
       "max        5345.000000  "
      ]
     },
     "execution_count": 2871,
     "metadata": {},
     "output_type": "execute_result"
    }
   ],
   "source": [
    "train_df.describe()"
   ]
  },
  {
   "cell_type": "code",
   "execution_count": 2872,
   "metadata": {},
   "outputs": [
    {
     "data": {
      "text/html": [
       "<div>\n",
       "<style scoped>\n",
       "    .dataframe tbody tr th:only-of-type {\n",
       "        vertical-align: middle;\n",
       "    }\n",
       "\n",
       "    .dataframe tbody tr th {\n",
       "        vertical-align: top;\n",
       "    }\n",
       "\n",
       "    .dataframe thead th {\n",
       "        text-align: right;\n",
       "    }\n",
       "</style>\n",
       "<table border=\"1\" class=\"dataframe\">\n",
       "  <thead>\n",
       "    <tr style=\"text-align: right;\">\n",
       "      <th></th>\n",
       "      <th>pickup_longitude</th>\n",
       "      <th>pickup_latitude</th>\n",
       "      <th>dropoff_longitude</th>\n",
       "      <th>dropoff_latitude</th>\n",
       "      <th>passenger_count</th>\n",
       "    </tr>\n",
       "  </thead>\n",
       "  <tbody>\n",
       "    <tr>\n",
       "      <th>count</th>\n",
       "      <td>9914.000000</td>\n",
       "      <td>9914.000000</td>\n",
       "      <td>9914.000000</td>\n",
       "      <td>9914.000000</td>\n",
       "      <td>9914.000000</td>\n",
       "    </tr>\n",
       "    <tr>\n",
       "      <th>mean</th>\n",
       "      <td>-73.974722</td>\n",
       "      <td>40.751041</td>\n",
       "      <td>-73.973657</td>\n",
       "      <td>40.751743</td>\n",
       "      <td>1.671273</td>\n",
       "    </tr>\n",
       "    <tr>\n",
       "      <th>std</th>\n",
       "      <td>0.042774</td>\n",
       "      <td>0.033541</td>\n",
       "      <td>0.039072</td>\n",
       "      <td>0.035435</td>\n",
       "      <td>1.278747</td>\n",
       "    </tr>\n",
       "    <tr>\n",
       "      <th>min</th>\n",
       "      <td>-74.252193</td>\n",
       "      <td>40.573143</td>\n",
       "      <td>-74.263242</td>\n",
       "      <td>40.568973</td>\n",
       "      <td>1.000000</td>\n",
       "    </tr>\n",
       "    <tr>\n",
       "      <th>25%</th>\n",
       "      <td>-73.992501</td>\n",
       "      <td>40.736125</td>\n",
       "      <td>-73.991247</td>\n",
       "      <td>40.735254</td>\n",
       "      <td>1.000000</td>\n",
       "    </tr>\n",
       "    <tr>\n",
       "      <th>50%</th>\n",
       "      <td>-73.982326</td>\n",
       "      <td>40.753051</td>\n",
       "      <td>-73.980015</td>\n",
       "      <td>40.754065</td>\n",
       "      <td>1.000000</td>\n",
       "    </tr>\n",
       "    <tr>\n",
       "      <th>75%</th>\n",
       "      <td>-73.968013</td>\n",
       "      <td>40.767113</td>\n",
       "      <td>-73.964059</td>\n",
       "      <td>40.768757</td>\n",
       "      <td>2.000000</td>\n",
       "    </tr>\n",
       "    <tr>\n",
       "      <th>max</th>\n",
       "      <td>-72.986532</td>\n",
       "      <td>41.709555</td>\n",
       "      <td>-72.990963</td>\n",
       "      <td>41.696683</td>\n",
       "      <td>6.000000</td>\n",
       "    </tr>\n",
       "  </tbody>\n",
       "</table>\n",
       "</div>"
      ],
      "text/plain": [
       "       pickup_longitude  pickup_latitude  dropoff_longitude  dropoff_latitude  \\\n",
       "count       9914.000000      9914.000000        9914.000000       9914.000000   \n",
       "mean         -73.974722        40.751041         -73.973657         40.751743   \n",
       "std            0.042774         0.033541           0.039072          0.035435   \n",
       "min          -74.252193        40.573143         -74.263242         40.568973   \n",
       "25%          -73.992501        40.736125         -73.991247         40.735254   \n",
       "50%          -73.982326        40.753051         -73.980015         40.754065   \n",
       "75%          -73.968013        40.767113         -73.964059         40.768757   \n",
       "max          -72.986532        41.709555         -72.990963         41.696683   \n",
       "\n",
       "       passenger_count  \n",
       "count      9914.000000  \n",
       "mean          1.671273  \n",
       "std           1.278747  \n",
       "min           1.000000  \n",
       "25%           1.000000  \n",
       "50%           1.000000  \n",
       "75%           2.000000  \n",
       "max           6.000000  "
      ]
     },
     "execution_count": 2872,
     "metadata": {},
     "output_type": "execute_result"
    }
   ],
   "source": [
    "test_df.describe()"
   ]
  },
  {
   "cell_type": "markdown",
   "metadata": {},
   "source": [
    "#### clearly we can see that there are anomalies in the dataset. std and max value of passenger_count of train_df is not normal"
   ]
  },
  {
   "cell_type": "code",
   "execution_count": 2873,
   "metadata": {},
   "outputs": [
    {
     "name": "stdout",
     "output_type": "stream",
     "text": [
      "shape of training data is:  (16067, 7)\n",
      "shape of test data is:  (9914, 6)\n"
     ]
    }
   ],
   "source": [
    "print(\"shape of training data is: \",train_df.shape) #checking the number of rows and columns in training data\n",
    "print(\"shape of test data is: \",test_df.shape) #checking the number of rows and columns in test data"
   ]
  },
  {
   "cell_type": "code",
   "execution_count": 2874,
   "metadata": {},
   "outputs": [
    {
     "name": "stdout",
     "output_type": "stream",
     "text": [
      "<class 'pandas.core.frame.DataFrame'>\n",
      "RangeIndex: 16067 entries, 0 to 16066\n",
      "Data columns (total 7 columns):\n",
      "fare_amount          16043 non-null object\n",
      "pickup_datetime      16067 non-null object\n",
      "pickup_longitude     16067 non-null float64\n",
      "pickup_latitude      16067 non-null float64\n",
      "dropoff_longitude    16067 non-null float64\n",
      "dropoff_latitude     16067 non-null float64\n",
      "passenger_count      16012 non-null float64\n",
      "dtypes: float64(5), object(2)\n",
      "memory usage: 878.7+ KB\n"
     ]
    }
   ],
   "source": [
    "train_df.info()"
   ]
  },
  {
   "cell_type": "code",
   "execution_count": 2875,
   "metadata": {},
   "outputs": [
    {
     "name": "stdout",
     "output_type": "stream",
     "text": [
      "<class 'pandas.core.frame.DataFrame'>\n",
      "RangeIndex: 9914 entries, 0 to 9913\n",
      "Data columns (total 6 columns):\n",
      "pickup_datetime      9914 non-null object\n",
      "pickup_longitude     9914 non-null float64\n",
      "pickup_latitude      9914 non-null float64\n",
      "dropoff_longitude    9914 non-null float64\n",
      "dropoff_latitude     9914 non-null float64\n",
      "passenger_count      9914 non-null int64\n",
      "dtypes: float64(4), int64(1), object(1)\n",
      "memory usage: 464.8+ KB\n"
     ]
    }
   ],
   "source": [
    "test_df.info()"
   ]
  },
  {
   "cell_type": "markdown",
   "metadata": {},
   "source": [
    "#### Here we can see that pickup_datetime and fare_amount are object and passenger_count is float. we need to do proper conversion."
   ]
  },
  {
   "cell_type": "code",
   "execution_count": 2876,
   "metadata": {},
   "outputs": [],
   "source": [
    "#DateTime Conversion\n",
    "#an error has ben raised it means that there are date string values which are not likely a datetime\n",
    "train_df['pickup_datetime'] = pd.to_datetime(train_df['pickup_datetime'],errors='coerce') # if such values occurs replace it with NaT"
   ]
  },
  {
   "cell_type": "code",
   "execution_count": 2877,
   "metadata": {},
   "outputs": [],
   "source": [
    "train_df['fare_amount'] = pd.to_numeric(train_df['fare_amount'], errors='coerce')\n",
    "#train_df['passenger_count'] = pd.to_numeric(train_df['passenger_count'], downcast='integer',errors='coerce')\n",
    "test_df['pickup_datetime'] = pd.to_datetime(test_df['pickup_datetime'],errors='coerce')"
   ]
  },
  {
   "cell_type": "code",
   "execution_count": 2878,
   "metadata": {},
   "outputs": [
    {
     "name": "stdout",
     "output_type": "stream",
     "text": [
      "<class 'pandas.core.frame.DataFrame'>\n",
      "RangeIndex: 9914 entries, 0 to 9913\n",
      "Data columns (total 6 columns):\n",
      "pickup_datetime      9914 non-null datetime64[ns, UTC]\n",
      "pickup_longitude     9914 non-null float64\n",
      "pickup_latitude      9914 non-null float64\n",
      "dropoff_longitude    9914 non-null float64\n",
      "dropoff_latitude     9914 non-null float64\n",
      "passenger_count      9914 non-null int64\n",
      "dtypes: datetime64[ns, UTC](1), float64(4), int64(1)\n",
      "memory usage: 464.8 KB\n"
     ]
    }
   ],
   "source": [
    "test_df.info()"
   ]
  },
  {
   "cell_type": "code",
   "execution_count": 2879,
   "metadata": {},
   "outputs": [
    {
     "name": "stdout",
     "output_type": "stream",
     "text": [
      "<class 'pandas.core.frame.DataFrame'>\n",
      "RangeIndex: 16067 entries, 0 to 16066\n",
      "Data columns (total 7 columns):\n",
      "fare_amount          16042 non-null float64\n",
      "pickup_datetime      16066 non-null datetime64[ns, UTC]\n",
      "pickup_longitude     16067 non-null float64\n",
      "pickup_latitude      16067 non-null float64\n",
      "dropoff_longitude    16067 non-null float64\n",
      "dropoff_latitude     16067 non-null float64\n",
      "passenger_count      16012 non-null float64\n",
      "dtypes: datetime64[ns, UTC](1), float64(6)\n",
      "memory usage: 878.7 KB\n"
     ]
    }
   ],
   "source": [
    "train_df.info()"
   ]
  },
  {
   "cell_type": "code",
   "execution_count": 2880,
   "metadata": {},
   "outputs": [
    {
     "name": "stdout",
     "output_type": "stream",
     "text": [
      "1.00       11259\n",
      "2.00        2322\n",
      "5.00        1045\n",
      "3.00         676\n",
      "4.00         329\n",
      "6.00         302\n",
      "0.00          57\n",
      "43.00          2\n",
      "53.00          2\n",
      "0.12           1\n",
      "1.30           1\n",
      "531.20         1\n",
      "345.00         1\n",
      "456.00         1\n",
      "87.00          1\n",
      "55.00          1\n",
      "58.00          1\n",
      "236.00         1\n",
      "535.00         1\n",
      "536.00         1\n",
      "537.00         1\n",
      "554.00         1\n",
      "5334.00        1\n",
      "35.00          1\n",
      "5345.00        1\n",
      "557.00         1\n",
      "354.00         1\n",
      "Name: passenger_count, dtype: int64\n",
      "1    6914\n",
      "2    1474\n",
      "5     696\n",
      "3     447\n",
      "4     206\n",
      "6     177\n",
      "Name: passenger_count, dtype: int64\n"
     ]
    }
   ],
   "source": [
    "print(train_df['passenger_count'].value_counts())\n",
    "print(test_df['passenger_count'].value_counts())"
   ]
  },
  {
   "cell_type": "markdown",
   "metadata": {},
   "source": [
    "#### as we can see that passenger_count can have 1-6 values all other consider to be outliers"
   ]
  },
  {
   "cell_type": "code",
   "execution_count": 2881,
   "metadata": {},
   "outputs": [
    {
     "data": {
      "text/plain": [
       "1015     54343.00\n",
       "1072      4343.00\n",
       "607        453.00\n",
       "980        434.00\n",
       "1335       180.00\n",
       "1483       165.00\n",
       "6630       128.83\n",
       "14142      108.00\n",
       "12349      104.67\n",
       "12915       96.00\n",
       "7810        95.00\n",
       "9431        88.00\n",
       "10077       87.30\n",
       "12614       87.00\n",
       "4620        85.50\n",
       "14519       82.50\n",
       "12437       80.75\n",
       "2639        79.00\n",
       "4013        77.70\n",
       "13962       77.15\n",
       "2013        77.00\n",
       "6668        76.80\n",
       "8363        76.00\n",
       "10524       75.80\n",
       "11019       75.33\n",
       "13615       75.00\n",
       "15023       73.30\n",
       "1494        70.00\n",
       "4118        69.70\n",
       "649         66.30\n",
       "           ...   \n",
       "2780         0.01\n",
       "10002        0.00\n",
       "2486        -2.50\n",
       "2039        -2.90\n",
       "13032       -3.00\n",
       "8             NaN\n",
       "26            NaN\n",
       "69            NaN\n",
       "126           NaN\n",
       "168           NaN\n",
       "240           NaN\n",
       "305           NaN\n",
       "350           NaN\n",
       "413           NaN\n",
       "455           NaN\n",
       "498           NaN\n",
       "667           NaN\n",
       "703           NaN\n",
       "746           NaN\n",
       "836           NaN\n",
       "840           NaN\n",
       "913           NaN\n",
       "1123          NaN\n",
       "1574          NaN\n",
       "1628          NaN\n",
       "1712          NaN\n",
       "2412          NaN\n",
       "2458          NaN\n",
       "8178          NaN\n",
       "8226          NaN\n",
       "Name: fare_amount, Length: 16067, dtype: float64"
      ]
     },
     "execution_count": 2881,
     "metadata": {},
     "output_type": "execute_result"
    }
   ],
   "source": [
    "train_df['fare_amount'].sort_values(ascending=False)"
   ]
  },
  {
   "cell_type": "markdown",
   "metadata": {},
   "source": [
    "#### as we can see that fare_amount conatins nan as well as negative values"
   ]
  },
  {
   "cell_type": "code",
   "execution_count": 2882,
   "metadata": {},
   "outputs": [
    {
     "data": {
      "text/html": [
       "<div>\n",
       "<style scoped>\n",
       "    .dataframe tbody tr th:only-of-type {\n",
       "        vertical-align: middle;\n",
       "    }\n",
       "\n",
       "    .dataframe tbody tr th {\n",
       "        vertical-align: top;\n",
       "    }\n",
       "\n",
       "    .dataframe thead th {\n",
       "        text-align: right;\n",
       "    }\n",
       "</style>\n",
       "<table border=\"1\" class=\"dataframe\">\n",
       "  <thead>\n",
       "    <tr style=\"text-align: right;\">\n",
       "      <th></th>\n",
       "      <th>fare_amount</th>\n",
       "      <th>pickup_longitude</th>\n",
       "      <th>pickup_latitude</th>\n",
       "      <th>dropoff_longitude</th>\n",
       "      <th>dropoff_latitude</th>\n",
       "      <th>passenger_count</th>\n",
       "    </tr>\n",
       "  </thead>\n",
       "  <tbody>\n",
       "    <tr>\n",
       "      <th>count</th>\n",
       "      <td>16042.000000</td>\n",
       "      <td>16067.000000</td>\n",
       "      <td>16067.000000</td>\n",
       "      <td>16067.000000</td>\n",
       "      <td>16067.000000</td>\n",
       "      <td>16012.000000</td>\n",
       "    </tr>\n",
       "    <tr>\n",
       "      <th>mean</th>\n",
       "      <td>15.015004</td>\n",
       "      <td>-72.462787</td>\n",
       "      <td>39.914725</td>\n",
       "      <td>-72.462328</td>\n",
       "      <td>39.897906</td>\n",
       "      <td>2.625070</td>\n",
       "    </tr>\n",
       "    <tr>\n",
       "      <th>std</th>\n",
       "      <td>430.460945</td>\n",
       "      <td>10.578384</td>\n",
       "      <td>6.826587</td>\n",
       "      <td>10.575062</td>\n",
       "      <td>6.187087</td>\n",
       "      <td>60.844122</td>\n",
       "    </tr>\n",
       "    <tr>\n",
       "      <th>min</th>\n",
       "      <td>-3.000000</td>\n",
       "      <td>-74.438233</td>\n",
       "      <td>-74.006893</td>\n",
       "      <td>-74.429332</td>\n",
       "      <td>-74.006377</td>\n",
       "      <td>0.000000</td>\n",
       "    </tr>\n",
       "    <tr>\n",
       "      <th>25%</th>\n",
       "      <td>6.000000</td>\n",
       "      <td>-73.992156</td>\n",
       "      <td>40.734927</td>\n",
       "      <td>-73.991182</td>\n",
       "      <td>40.734651</td>\n",
       "      <td>1.000000</td>\n",
       "    </tr>\n",
       "    <tr>\n",
       "      <th>50%</th>\n",
       "      <td>8.500000</td>\n",
       "      <td>-73.981698</td>\n",
       "      <td>40.752603</td>\n",
       "      <td>-73.980172</td>\n",
       "      <td>40.753567</td>\n",
       "      <td>1.000000</td>\n",
       "    </tr>\n",
       "    <tr>\n",
       "      <th>75%</th>\n",
       "      <td>12.500000</td>\n",
       "      <td>-73.966838</td>\n",
       "      <td>40.767381</td>\n",
       "      <td>-73.963643</td>\n",
       "      <td>40.768013</td>\n",
       "      <td>2.000000</td>\n",
       "    </tr>\n",
       "    <tr>\n",
       "      <th>max</th>\n",
       "      <td>54343.000000</td>\n",
       "      <td>40.766125</td>\n",
       "      <td>401.083332</td>\n",
       "      <td>40.802437</td>\n",
       "      <td>41.366138</td>\n",
       "      <td>5345.000000</td>\n",
       "    </tr>\n",
       "  </tbody>\n",
       "</table>\n",
       "</div>"
      ],
      "text/plain": [
       "        fare_amount  pickup_longitude  pickup_latitude  dropoff_longitude  \\\n",
       "count  16042.000000      16067.000000     16067.000000       16067.000000   \n",
       "mean      15.015004        -72.462787        39.914725         -72.462328   \n",
       "std      430.460945         10.578384         6.826587          10.575062   \n",
       "min       -3.000000        -74.438233       -74.006893         -74.429332   \n",
       "25%        6.000000        -73.992156        40.734927         -73.991182   \n",
       "50%        8.500000        -73.981698        40.752603         -73.980172   \n",
       "75%       12.500000        -73.966838        40.767381         -73.963643   \n",
       "max    54343.000000         40.766125       401.083332          40.802437   \n",
       "\n",
       "       dropoff_latitude  passenger_count  \n",
       "count      16067.000000     16012.000000  \n",
       "mean          39.897906         2.625070  \n",
       "std            6.187087        60.844122  \n",
       "min          -74.006377         0.000000  \n",
       "25%           40.734651         1.000000  \n",
       "50%           40.753567         1.000000  \n",
       "75%           40.768013         2.000000  \n",
       "max           41.366138      5345.000000  "
      ]
     },
     "execution_count": 2882,
     "metadata": {},
     "output_type": "execute_result"
    }
   ],
   "source": [
    "train_df.describe() #check the min, max, mean, std of fare_amount\n",
    "#It turns out min and max value are outliers and as we can see they are affecting the std which is 430.46 considering 25%,50%,75% of data have lower values."
   ]
  },
  {
   "cell_type": "code",
   "execution_count": 2883,
   "metadata": {},
   "outputs": [
    {
     "name": "stdout",
     "output_type": "stream",
     "text": [
      "above 180 => 4\n",
      "above 453 => 2\n",
      "0 => 1\n"
     ]
    }
   ],
   "source": [
    "print('above 180 =>',sum(train_df['fare_amount']>180))# only 4 observations out of 16042.\n",
    "print('above 453 =>',sum(train_df['fare_amount']>453))#only 2 observation out of 16042. so we can say that fare_amount above 453 are outliers\n",
    "print('0 =>', sum(train_df['fare_amount']==0))#fare cannot be zero"
   ]
  },
  {
   "cell_type": "code",
   "execution_count": 2884,
   "metadata": {},
   "outputs": [
    {
     "data": {
      "text/plain": [
       "(5, 20, 58)"
      ]
     },
     "execution_count": 2884,
     "metadata": {},
     "output_type": "execute_result"
    }
   ],
   "source": [
    "# fare_amount cannot be less than 1 and the passenger_count ranges from 1-6 because its a cab.\n",
    "(sum(train_df['fare_amount']<1),sum(train_df['passenger_count']>6),sum(train_df['passenger_count']<1))"
   ]
  },
  {
   "cell_type": "code",
   "execution_count": 2885,
   "metadata": {},
   "outputs": [
    {
     "name": "stdout",
     "output_type": "stream",
     "text": [
      "----------------Train---------------\n",
      "pickup_latitude above 90 in train data =1\n",
      "pickup_latitude below -90 in train data =0\n",
      "pickup_longitude above 180 in train data =0\n",
      "pickup_longitude below -180 in train data =0\n",
      "dropoff_latitude above 90 in train data=0\n",
      "dropoff_latitude below -90 in train data=0\n",
      "dropoff_longitude above 180 in train data=0\n",
      "dropoff_longitude below -180 in train data=0\n",
      "----------------Test---------------\n",
      "pickup_latitude above 90 in test data =0\n",
      "pickup_latitude below -90 in test data =0\n",
      "pickup_longitude above 180 in test data =0\n",
      "pickup_longitude below -180 in test data =0\n",
      "dropoff_latitude above 90 in test data=0\n",
      "dropoff_latitude below -90 in test data=0\n",
      "dropoff_longitude above 180 in test data=0\n",
      "dropoff_longitude below -180 in test data=0\n"
     ]
    }
   ],
   "source": [
    "# Latitudes range from -90 to 90, and longitudes range from -180 to 180.\n",
    "print('----------------Train---------------')\n",
    "print('pickup_latitude above 90 in train data ={}'.format(sum(train_df['pickup_latitude']>90)))\n",
    "print('pickup_latitude below -90 in train data ={}'.format(sum(train_df['pickup_latitude']<-90)))\n",
    "print('pickup_longitude above 180 in train data ={}'.format(sum(train_df['pickup_longitude']>180)))\n",
    "print('pickup_longitude below -180 in train data ={}'.format(sum(train_df['pickup_longitude']<-180)))\n",
    "print('dropoff_latitude above 90 in train data={}'.format(sum(train_df['dropoff_latitude']>90)))\n",
    "print('dropoff_latitude below -90 in train data={}'.format(sum(train_df['dropoff_latitude']<-90)))\n",
    "print('dropoff_longitude above 180 in train data={}'.format(sum(train_df['dropoff_longitude']>180)))\n",
    "print('dropoff_longitude below -180 in train data={}'.format(sum(train_df['dropoff_longitude']<-180)))\n",
    "print('----------------Test---------------')\n",
    "print('pickup_latitude above 90 in test data ={}'.format(sum(test_df['pickup_latitude']>90)))\n",
    "print('pickup_latitude below -90 in test data ={}'.format(sum(test_df['pickup_latitude']<-90)))\n",
    "print('pickup_longitude above 180 in test data ={}'.format(sum(test_df['pickup_longitude']>180)))\n",
    "print('pickup_longitude below -180 in test data ={}'.format(sum(test_df['pickup_longitude']<-180)))\n",
    "print('dropoff_latitude above 90 in test data={}'.format(sum(test_df['dropoff_latitude']>90)))\n",
    "print('dropoff_latitude below -90 in test data={}'.format(sum(test_df['dropoff_latitude']<-90)))\n",
    "print('dropoff_longitude above 180 in test data={}'.format(sum(test_df['dropoff_longitude']>180)))\n",
    "print('dropoff_longitude below -180 in test data={}'.format(sum(test_df['dropoff_longitude']<-180)))\n",
    "\n",
    "\n"
   ]
  },
  {
   "cell_type": "code",
   "execution_count": 2886,
   "metadata": {},
   "outputs": [
    {
     "name": "stdout",
     "output_type": "stream",
     "text": [
      "pickup_longitude equal to 0=315\n",
      "pickup_latitude equal to 0=315\n",
      "dropoff_longitude equal to 0=314\n",
      "dropoff_latitude equal to 0=312\n"
     ]
    }
   ],
   "source": [
    "#Zero degrees latitude is the line designating the Equator and divides the Earth into two equal hemispheres (north and south). Zero degrees longitude is an imaginary line known as the Prime Meridian.\n",
    "for i in ['pickup_longitude','pickup_latitude','dropoff_longitude','dropoff_latitude']:\n",
    "    print(i,'equal to 0={}'.format(sum(train_df[i]==0)))"
   ]
  },
  {
   "cell_type": "markdown",
   "metadata": {},
   "source": [
    "# Data Cleaning"
   ]
  },
  {
   "cell_type": "code",
   "execution_count": 2887,
   "metadata": {},
   "outputs": [],
   "source": [
    "#considering the above results from our experiment we will drop corrupted values\n",
    "train_df.drop(train_df[train_df['fare_amount']<1].index, axis=0,inplace=True)\n",
    "train_df.drop(train_df[train_df['fare_amount']>453].index, axis=0, inplace=True)\n",
    "train_df.drop(train_df[train_df['passenger_count']<1].index, axis=0, inplace=True)\n",
    "train_df.drop(train_df[train_df['passenger_count']>6].index, axis=0, inplace=True)\n",
    "train_df.drop(train_df[train_df['pickup_latitude']>90].index, axis=0, inplace=True)\n",
    "for i in ['pickup_longitude','pickup_latitude','dropoff_longitude','dropoff_latitude']:\n",
    "    train_df.drop(train_df[train_df[i]==0].index, axis=0, inplace=True)\n",
    "    \n",
    " \n",
    "train_df=train_df[np.logical_and(train_df['pickup_longitude'] != train_df['dropoff_longitude'],\n",
    "                                      train_df['pickup_latitude'] != train_df['dropoff_latitude'])]"
   ]
  },
  {
   "cell_type": "code",
   "execution_count": 2888,
   "metadata": {},
   "outputs": [
    {
     "data": {
      "text/plain": [
       "(15500, 7)"
      ]
     },
     "execution_count": 2888,
     "metadata": {},
     "output_type": "execute_result"
    }
   ],
   "source": [
    "train_df.shape"
   ]
  },
  {
   "cell_type": "markdown",
   "metadata": {},
   "source": [
    "# Missing Values "
   ]
  },
  {
   "cell_type": "code",
   "execution_count": 2889,
   "metadata": {},
   "outputs": [
    {
     "data": {
      "text/html": [
       "<div>\n",
       "<style scoped>\n",
       "    .dataframe tbody tr th:only-of-type {\n",
       "        vertical-align: middle;\n",
       "    }\n",
       "\n",
       "    .dataframe tbody tr th {\n",
       "        vertical-align: top;\n",
       "    }\n",
       "\n",
       "    .dataframe thead th {\n",
       "        text-align: right;\n",
       "    }\n",
       "</style>\n",
       "<table border=\"1\" class=\"dataframe\">\n",
       "  <thead>\n",
       "    <tr style=\"text-align: right;\">\n",
       "      <th></th>\n",
       "      <th>features</th>\n",
       "      <th>count</th>\n",
       "      <th>missing_values_percentage</th>\n",
       "    </tr>\n",
       "  </thead>\n",
       "  <tbody>\n",
       "    <tr>\n",
       "      <th>0</th>\n",
       "      <td>fare_amount</td>\n",
       "      <td>22</td>\n",
       "      <td>0.001419</td>\n",
       "    </tr>\n",
       "    <tr>\n",
       "      <th>1</th>\n",
       "      <td>pickup_datetime</td>\n",
       "      <td>1</td>\n",
       "      <td>0.000065</td>\n",
       "    </tr>\n",
       "    <tr>\n",
       "      <th>2</th>\n",
       "      <td>pickup_longitude</td>\n",
       "      <td>0</td>\n",
       "      <td>0.000000</td>\n",
       "    </tr>\n",
       "    <tr>\n",
       "      <th>3</th>\n",
       "      <td>pickup_latitude</td>\n",
       "      <td>0</td>\n",
       "      <td>0.000000</td>\n",
       "    </tr>\n",
       "    <tr>\n",
       "      <th>4</th>\n",
       "      <td>dropoff_longitude</td>\n",
       "      <td>0</td>\n",
       "      <td>0.000000</td>\n",
       "    </tr>\n",
       "    <tr>\n",
       "      <th>5</th>\n",
       "      <td>dropoff_latitude</td>\n",
       "      <td>0</td>\n",
       "      <td>0.000000</td>\n",
       "    </tr>\n",
       "    <tr>\n",
       "      <th>6</th>\n",
       "      <td>passenger_count</td>\n",
       "      <td>55</td>\n",
       "      <td>0.003548</td>\n",
       "    </tr>\n",
       "  </tbody>\n",
       "</table>\n",
       "</div>"
      ],
      "text/plain": [
       "            features  count  missing_values_percentage\n",
       "0        fare_amount     22                   0.001419\n",
       "1    pickup_datetime      1                   0.000065\n",
       "2   pickup_longitude      0                   0.000000\n",
       "3    pickup_latitude      0                   0.000000\n",
       "4  dropoff_longitude      0                   0.000000\n",
       "5   dropoff_latitude      0                   0.000000\n",
       "6    passenger_count     55                   0.003548"
      ]
     },
     "execution_count": 2889,
     "metadata": {},
     "output_type": "execute_result"
    }
   ],
   "source": [
    "missing_values = pd.DataFrame(train_df.isnull().sum())\n",
    "missing_values = missing_values.reset_index().rename(columns={'index':'features',0:'count'})\n",
    "missing_values['missing_values_percentage'] = (missing_values['count']/len(train_df))\n",
    "missing_values\n",
    "#missing values percentage is less than 35% so we can't drop that feature"
   ]
  },
  {
   "cell_type": "markdown",
   "metadata": {},
   "source": [
    "#### we have to drop the observations with datetime missing values because there is no way we can impute that. Also total 78 observations have missing values out of 15500. since the percentage is very less we can drop those observations"
   ]
  },
  {
   "cell_type": "code",
   "execution_count": 2890,
   "metadata": {},
   "outputs": [],
   "source": [
    "train_df.dropna(axis=0,inplace=True)"
   ]
  },
  {
   "cell_type": "code",
   "execution_count": 2891,
   "metadata": {},
   "outputs": [
    {
     "data": {
      "text/plain": [
       "(15422, 7)"
      ]
     },
     "execution_count": 2891,
     "metadata": {},
     "output_type": "execute_result"
    }
   ],
   "source": [
    "train_df.shape"
   ]
  },
  {
   "cell_type": "code",
   "execution_count": 2892,
   "metadata": {},
   "outputs": [
    {
     "data": {
      "text/plain": [
       "fare_amount          0\n",
       "pickup_datetime      0\n",
       "pickup_longitude     0\n",
       "pickup_latitude      0\n",
       "dropoff_longitude    0\n",
       "dropoff_latitude     0\n",
       "passenger_count      0\n",
       "dtype: int64"
      ]
     },
     "execution_count": 2892,
     "metadata": {},
     "output_type": "execute_result"
    }
   ],
   "source": [
    "train_df.isnull().sum()"
   ]
  },
  {
   "cell_type": "code",
   "execution_count": 2893,
   "metadata": {},
   "outputs": [
    {
     "data": {
      "text/plain": [
       "array([1. , 2. , 3. , 6. , 5. , 4. , 1.3])"
      ]
     },
     "execution_count": 2893,
     "metadata": {},
     "output_type": "execute_result"
    }
   ],
   "source": [
    "train_df['passenger_count'].unique()\n",
    "#passenger_count cannot be in fraction"
   ]
  },
  {
   "cell_type": "code",
   "execution_count": 2894,
   "metadata": {},
   "outputs": [
    {
     "data": {
      "text/plain": [
       "(15421, 7)"
      ]
     },
     "execution_count": 2894,
     "metadata": {},
     "output_type": "execute_result"
    }
   ],
   "source": [
    "train_df.drop(train_df[train_df['passenger_count']==1.3].index, axis=0, inplace=True)\n",
    "train_df.shape"
   ]
  },
  {
   "cell_type": "code",
   "execution_count": 2895,
   "metadata": {},
   "outputs": [],
   "source": [
    "train_df.passenger_count = train_df.passenger_count.astype('int64')"
   ]
  },
  {
   "cell_type": "code",
   "execution_count": 2896,
   "metadata": {},
   "outputs": [
    {
     "name": "stdout",
     "output_type": "stream",
     "text": [
      "<class 'pandas.core.frame.DataFrame'>\n",
      "Int64Index: 15421 entries, 0 to 16065\n",
      "Data columns (total 7 columns):\n",
      "fare_amount          15421 non-null float64\n",
      "pickup_datetime      15421 non-null datetime64[ns, UTC]\n",
      "pickup_longitude     15421 non-null float64\n",
      "pickup_latitude      15421 non-null float64\n",
      "dropoff_longitude    15421 non-null float64\n",
      "dropoff_latitude     15421 non-null float64\n",
      "passenger_count      15421 non-null int64\n",
      "dtypes: datetime64[ns, UTC](1), float64(5), int64(1)\n",
      "memory usage: 963.8 KB\n"
     ]
    }
   ],
   "source": [
    "train_df.info()"
   ]
  },
  {
   "cell_type": "code",
   "execution_count": 2897,
   "metadata": {},
   "outputs": [
    {
     "data": {
      "text/plain": [
       "array([1, 2, 3, 6, 5, 4], dtype=int64)"
      ]
     },
     "execution_count": 2897,
     "metadata": {},
     "output_type": "execute_result"
    }
   ],
   "source": [
    "train_df.passenger_count.unique()"
   ]
  },
  {
   "cell_type": "markdown",
   "metadata": {},
   "source": [
    "#### All the data has been cleaned and now we go for feature engineering"
   ]
  },
  {
   "cell_type": "markdown",
   "metadata": {},
   "source": [
    "# Feature Engineering"
   ]
  },
  {
   "cell_type": "code",
   "execution_count": 2898,
   "metadata": {},
   "outputs": [],
   "source": [
    "#Since we have given pickup and dropup co ordinates we will find the distance using haversine formula and we will create a new feature called distance\n",
    "def haversine(a):\n",
    "    lon1=a[0]\n",
    "    lat1=a[1]\n",
    "    lon2=a[2]\n",
    "    lat2=a[3]\n",
    "    \n",
    "   # Calculate the great circle distance between two points \n",
    "    # on the earth (specified in decimal degrees)\n",
    "   \n",
    "    # convert decimal degrees to radians \n",
    "    lon1, lat1, lon2, lat2 = map(radians, [lon1, lat1, lon2, lat2])\n",
    "    \n",
    "    # haversine formula \n",
    "    dlon = lon2 - lon1 \n",
    "    dlat = lat2 - lat1 \n",
    "    a = sin(dlat/2)**2 + cos(lat1) * cos(lat2) * sin(dlon/2)**2\n",
    "    c =  2 * asin(sqrt(a))\n",
    "    # Radius of earth in kilometers is 6371\n",
    "    km = 6371* c\n",
    "    return km"
   ]
  },
  {
   "cell_type": "code",
   "execution_count": 2899,
   "metadata": {},
   "outputs": [],
   "source": [
    "train_df['distance'] = train_df[['pickup_longitude','pickup_latitude','dropoff_longitude','dropoff_latitude']].apply(haversine,axis=1)\n",
    "\n",
    "test_df['distance'] = test_df[['pickup_longitude','pickup_latitude','dropoff_longitude','dropoff_latitude']].apply(haversine,axis=1)"
   ]
  },
  {
   "cell_type": "code",
   "execution_count": 2900,
   "metadata": {},
   "outputs": [
    {
     "data": {
      "text/html": [
       "<div>\n",
       "<style scoped>\n",
       "    .dataframe tbody tr th:only-of-type {\n",
       "        vertical-align: middle;\n",
       "    }\n",
       "\n",
       "    .dataframe tbody tr th {\n",
       "        vertical-align: top;\n",
       "    }\n",
       "\n",
       "    .dataframe thead th {\n",
       "        text-align: right;\n",
       "    }\n",
       "</style>\n",
       "<table border=\"1\" class=\"dataframe\">\n",
       "  <thead>\n",
       "    <tr style=\"text-align: right;\">\n",
       "      <th></th>\n",
       "      <th>fare_amount</th>\n",
       "      <th>pickup_datetime</th>\n",
       "      <th>pickup_longitude</th>\n",
       "      <th>pickup_latitude</th>\n",
       "      <th>dropoff_longitude</th>\n",
       "      <th>dropoff_latitude</th>\n",
       "      <th>passenger_count</th>\n",
       "      <th>distance</th>\n",
       "    </tr>\n",
       "  </thead>\n",
       "  <tbody>\n",
       "    <tr>\n",
       "      <th>0</th>\n",
       "      <td>4.5</td>\n",
       "      <td>2009-06-15 17:26:21+00:00</td>\n",
       "      <td>-73.844311</td>\n",
       "      <td>40.721319</td>\n",
       "      <td>-73.841610</td>\n",
       "      <td>40.712278</td>\n",
       "      <td>1</td>\n",
       "      <td>1.030764</td>\n",
       "    </tr>\n",
       "    <tr>\n",
       "      <th>1</th>\n",
       "      <td>16.9</td>\n",
       "      <td>2010-01-05 16:52:16+00:00</td>\n",
       "      <td>-74.016048</td>\n",
       "      <td>40.711303</td>\n",
       "      <td>-73.979268</td>\n",
       "      <td>40.782004</td>\n",
       "      <td>1</td>\n",
       "      <td>8.450134</td>\n",
       "    </tr>\n",
       "    <tr>\n",
       "      <th>2</th>\n",
       "      <td>5.7</td>\n",
       "      <td>2011-08-18 00:35:00+00:00</td>\n",
       "      <td>-73.982738</td>\n",
       "      <td>40.761270</td>\n",
       "      <td>-73.991242</td>\n",
       "      <td>40.750562</td>\n",
       "      <td>2</td>\n",
       "      <td>1.389525</td>\n",
       "    </tr>\n",
       "    <tr>\n",
       "      <th>3</th>\n",
       "      <td>7.7</td>\n",
       "      <td>2012-04-21 04:30:42+00:00</td>\n",
       "      <td>-73.987130</td>\n",
       "      <td>40.733143</td>\n",
       "      <td>-73.991567</td>\n",
       "      <td>40.758092</td>\n",
       "      <td>1</td>\n",
       "      <td>2.799270</td>\n",
       "    </tr>\n",
       "    <tr>\n",
       "      <th>4</th>\n",
       "      <td>5.3</td>\n",
       "      <td>2010-03-09 07:51:00+00:00</td>\n",
       "      <td>-73.968095</td>\n",
       "      <td>40.768008</td>\n",
       "      <td>-73.956655</td>\n",
       "      <td>40.783762</td>\n",
       "      <td>1</td>\n",
       "      <td>1.999157</td>\n",
       "    </tr>\n",
       "  </tbody>\n",
       "</table>\n",
       "</div>"
      ],
      "text/plain": [
       "   fare_amount           pickup_datetime  pickup_longitude  pickup_latitude  \\\n",
       "0          4.5 2009-06-15 17:26:21+00:00        -73.844311        40.721319   \n",
       "1         16.9 2010-01-05 16:52:16+00:00        -74.016048        40.711303   \n",
       "2          5.7 2011-08-18 00:35:00+00:00        -73.982738        40.761270   \n",
       "3          7.7 2012-04-21 04:30:42+00:00        -73.987130        40.733143   \n",
       "4          5.3 2010-03-09 07:51:00+00:00        -73.968095        40.768008   \n",
       "\n",
       "   dropoff_longitude  dropoff_latitude  passenger_count  distance  \n",
       "0         -73.841610         40.712278                1  1.030764  \n",
       "1         -73.979268         40.782004                1  8.450134  \n",
       "2         -73.991242         40.750562                2  1.389525  \n",
       "3         -73.991567         40.758092                1  2.799270  \n",
       "4         -73.956655         40.783762                1  1.999157  "
      ]
     },
     "execution_count": 2900,
     "metadata": {},
     "output_type": "execute_result"
    }
   ],
   "source": [
    "train_df.head()"
   ]
  },
  {
   "cell_type": "code",
   "execution_count": 2901,
   "metadata": {},
   "outputs": [
    {
     "data": {
      "text/plain": [
       "12739   2009-01-01 01:31:49+00:00\n",
       "8684    2009-01-01 02:51:52+00:00\n",
       "11623   2009-01-01 15:19:00+00:00\n",
       "10004   2009-01-01 16:52:00+00:00\n",
       "7756    2009-01-01 17:07:00+00:00\n",
       "13904   2009-01-01 19:57:19+00:00\n",
       "2354    2009-01-02 02:32:41+00:00\n",
       "7704    2009-01-02 06:35:00+00:00\n",
       "428     2009-01-02 10:13:46+00:00\n",
       "9176    2009-01-03 12:26:25+00:00\n",
       "854     2009-01-03 13:27:00+00:00\n",
       "5633    2009-01-03 15:19:44+00:00\n",
       "13252   2009-01-03 16:23:00+00:00\n",
       "12587   2009-01-03 19:03:07+00:00\n",
       "12266   2009-01-03 21:28:59+00:00\n",
       "15854   2009-01-03 21:41:08+00:00\n",
       "7049    2009-01-04 04:00:57+00:00\n",
       "6519    2009-01-04 09:54:34+00:00\n",
       "15351   2009-01-04 11:22:00+00:00\n",
       "9969    2009-01-04 11:35:34+00:00\n",
       "9132    2009-01-04 12:53:00+00:00\n",
       "4199    2009-01-04 16:13:00+00:00\n",
       "9068    2009-01-05 00:20:14+00:00\n",
       "11332   2009-01-05 12:21:33+00:00\n",
       "3349    2009-01-05 21:37:34+00:00\n",
       "7066    2009-01-05 22:25:43+00:00\n",
       "8875    2009-01-06 06:08:00+00:00\n",
       "11808   2009-01-06 08:24:45+00:00\n",
       "13448   2009-01-06 08:56:00+00:00\n",
       "6809    2009-01-06 09:12:00+00:00\n",
       "                   ...           \n",
       "4749    2015-06-25 02:56:25+00:00\n",
       "2025    2015-06-25 07:48:06+00:00\n",
       "1218    2015-06-25 09:35:23+00:00\n",
       "14690   2015-06-25 18:52:30+00:00\n",
       "8564    2015-06-25 21:35:23+00:00\n",
       "14366   2015-06-25 22:20:18+00:00\n",
       "7887    2015-06-26 00:18:55+00:00\n",
       "1915    2015-06-26 04:00:58+00:00\n",
       "1878    2015-06-26 06:54:20+00:00\n",
       "2273    2015-06-26 07:03:51+00:00\n",
       "6710    2015-06-26 12:42:44+00:00\n",
       "7461    2015-06-26 17:43:02+00:00\n",
       "9898    2015-06-26 22:30:48+00:00\n",
       "6030    2015-06-27 00:15:29+00:00\n",
       "10056   2015-06-27 00:21:16+00:00\n",
       "13663   2015-06-27 02:43:11+00:00\n",
       "1167    2015-06-27 02:56:01+00:00\n",
       "4511    2015-06-27 12:20:45+00:00\n",
       "2627    2015-06-27 13:12:00+00:00\n",
       "9415    2015-06-27 19:29:59+00:00\n",
       "13090   2015-06-27 20:52:38+00:00\n",
       "12483   2015-06-27 21:53:29+00:00\n",
       "687     2015-06-27 22:06:57+00:00\n",
       "11027   2015-06-28 14:54:35+00:00\n",
       "1289    2015-06-28 19:50:21+00:00\n",
       "5366    2015-06-28 22:01:41+00:00\n",
       "2237    2015-06-29 20:37:21+00:00\n",
       "8203    2015-06-30 06:25:34+00:00\n",
       "12606   2015-06-30 17:59:31+00:00\n",
       "1428    2015-06-30 22:42:39+00:00\n",
       "Name: pickup_datetime, Length: 15421, dtype: datetime64[ns, UTC]"
      ]
     },
     "execution_count": 2901,
     "metadata": {},
     "output_type": "execute_result"
    }
   ],
   "source": [
    "train_df['pickup_datetime'].sort_values(ascending=True)"
   ]
  },
  {
   "cell_type": "markdown",
   "metadata": {},
   "source": [
    "#### Now we know the starting date in our dataset. we will take a date 1 month before our starting date and take the difference for each row and create a new variable and then we will take that new variable into consideration."
   ]
  },
  {
   "cell_type": "code",
   "execution_count": 2902,
   "metadata": {},
   "outputs": [],
   "source": [
    "starting_time = train_df['pickup_datetime'][12739]"
   ]
  },
  {
   "cell_type": "code",
   "execution_count": 2903,
   "metadata": {},
   "outputs": [
    {
     "data": {
      "text/plain": [
       "Timestamp('2009-01-01 01:31:49+0000', tz='UTC')"
      ]
     },
     "execution_count": 2903,
     "metadata": {},
     "output_type": "execute_result"
    }
   ],
   "source": [
    "starting_time"
   ]
  },
  {
   "cell_type": "code",
   "execution_count": 2904,
   "metadata": {},
   "outputs": [],
   "source": [
    "refernce_time = starting_time -  timedelta(days = 31)"
   ]
  },
  {
   "cell_type": "code",
   "execution_count": 2905,
   "metadata": {},
   "outputs": [
    {
     "data": {
      "text/plain": [
       "Timestamp('2008-12-01 01:31:49+0000', tz='UTC')"
      ]
     },
     "execution_count": 2905,
     "metadata": {},
     "output_type": "execute_result"
    }
   ],
   "source": [
    "refernce_date"
   ]
  },
  {
   "cell_type": "code",
   "execution_count": 2906,
   "metadata": {},
   "outputs": [],
   "source": [
    "def time_diff(s_time,r_time):\n",
    "    diff = s_time - r_time\n",
    "    return diff\n",
    "\n",
    "def timedelta_to_seconds(x):\n",
    "    a = x[0]\n",
    "    return a.total_seconds()\n",
    "    "
   ]
  },
  {
   "cell_type": "code",
   "execution_count": 2907,
   "metadata": {},
   "outputs": [],
   "source": [
    "train_df['elapsed_time'] = \"\"\n",
    "train_df['elapsed_time'] = time_diff(train_df['pickup_datetime'],refernce_date)\n",
    "train_df = train_df.reset_index()\n",
    "train_df = train_df.drop(columns=['index'])\n",
    "train_df['elapsed_sec'] =\"\"\n",
    "train_df['elapsed_sec'] = train_df[['elapsed_time']].apply(timedelta_to_seconds,axis=1)"
   ]
  },
  {
   "cell_type": "code",
   "execution_count": 2908,
   "metadata": {},
   "outputs": [
    {
     "data": {
      "text/html": [
       "<div>\n",
       "<style scoped>\n",
       "    .dataframe tbody tr th:only-of-type {\n",
       "        vertical-align: middle;\n",
       "    }\n",
       "\n",
       "    .dataframe tbody tr th {\n",
       "        vertical-align: top;\n",
       "    }\n",
       "\n",
       "    .dataframe thead th {\n",
       "        text-align: right;\n",
       "    }\n",
       "</style>\n",
       "<table border=\"1\" class=\"dataframe\">\n",
       "  <thead>\n",
       "    <tr style=\"text-align: right;\">\n",
       "      <th></th>\n",
       "      <th>fare_amount</th>\n",
       "      <th>pickup_datetime</th>\n",
       "      <th>pickup_longitude</th>\n",
       "      <th>pickup_latitude</th>\n",
       "      <th>dropoff_longitude</th>\n",
       "      <th>dropoff_latitude</th>\n",
       "      <th>passenger_count</th>\n",
       "      <th>distance</th>\n",
       "      <th>elapsed_time</th>\n",
       "      <th>elapsed_sec</th>\n",
       "    </tr>\n",
       "  </thead>\n",
       "  <tbody>\n",
       "    <tr>\n",
       "      <th>0</th>\n",
       "      <td>4.5</td>\n",
       "      <td>2009-06-15 17:26:21+00:00</td>\n",
       "      <td>-73.844311</td>\n",
       "      <td>40.721319</td>\n",
       "      <td>-73.841610</td>\n",
       "      <td>40.712278</td>\n",
       "      <td>1</td>\n",
       "      <td>1.030764</td>\n",
       "      <td>196 days 15:54:32</td>\n",
       "      <td>16991672.0</td>\n",
       "    </tr>\n",
       "    <tr>\n",
       "      <th>1</th>\n",
       "      <td>16.9</td>\n",
       "      <td>2010-01-05 16:52:16+00:00</td>\n",
       "      <td>-74.016048</td>\n",
       "      <td>40.711303</td>\n",
       "      <td>-73.979268</td>\n",
       "      <td>40.782004</td>\n",
       "      <td>1</td>\n",
       "      <td>8.450134</td>\n",
       "      <td>400 days 15:20:27</td>\n",
       "      <td>34615227.0</td>\n",
       "    </tr>\n",
       "    <tr>\n",
       "      <th>2</th>\n",
       "      <td>5.7</td>\n",
       "      <td>2011-08-18 00:35:00+00:00</td>\n",
       "      <td>-73.982738</td>\n",
       "      <td>40.761270</td>\n",
       "      <td>-73.991242</td>\n",
       "      <td>40.750562</td>\n",
       "      <td>2</td>\n",
       "      <td>1.389525</td>\n",
       "      <td>989 days 23:03:11</td>\n",
       "      <td>85532591.0</td>\n",
       "    </tr>\n",
       "    <tr>\n",
       "      <th>3</th>\n",
       "      <td>7.7</td>\n",
       "      <td>2012-04-21 04:30:42+00:00</td>\n",
       "      <td>-73.987130</td>\n",
       "      <td>40.733143</td>\n",
       "      <td>-73.991567</td>\n",
       "      <td>40.758092</td>\n",
       "      <td>1</td>\n",
       "      <td>2.799270</td>\n",
       "      <td>1237 days 02:58:53</td>\n",
       "      <td>106887533.0</td>\n",
       "    </tr>\n",
       "    <tr>\n",
       "      <th>4</th>\n",
       "      <td>5.3</td>\n",
       "      <td>2010-03-09 07:51:00+00:00</td>\n",
       "      <td>-73.968095</td>\n",
       "      <td>40.768008</td>\n",
       "      <td>-73.956655</td>\n",
       "      <td>40.783762</td>\n",
       "      <td>1</td>\n",
       "      <td>1.999157</td>\n",
       "      <td>463 days 06:19:11</td>\n",
       "      <td>40025951.0</td>\n",
       "    </tr>\n",
       "  </tbody>\n",
       "</table>\n",
       "</div>"
      ],
      "text/plain": [
       "   fare_amount           pickup_datetime  pickup_longitude  pickup_latitude  \\\n",
       "0          4.5 2009-06-15 17:26:21+00:00        -73.844311        40.721319   \n",
       "1         16.9 2010-01-05 16:52:16+00:00        -74.016048        40.711303   \n",
       "2          5.7 2011-08-18 00:35:00+00:00        -73.982738        40.761270   \n",
       "3          7.7 2012-04-21 04:30:42+00:00        -73.987130        40.733143   \n",
       "4          5.3 2010-03-09 07:51:00+00:00        -73.968095        40.768008   \n",
       "\n",
       "   dropoff_longitude  dropoff_latitude  passenger_count  distance  \\\n",
       "0         -73.841610         40.712278                1  1.030764   \n",
       "1         -73.979268         40.782004                1  8.450134   \n",
       "2         -73.991242         40.750562                2  1.389525   \n",
       "3         -73.991567         40.758092                1  2.799270   \n",
       "4         -73.956655         40.783762                1  1.999157   \n",
       "\n",
       "        elapsed_time  elapsed_sec  \n",
       "0  196 days 15:54:32   16991672.0  \n",
       "1  400 days 15:20:27   34615227.0  \n",
       "2  989 days 23:03:11   85532591.0  \n",
       "3 1237 days 02:58:53  106887533.0  \n",
       "4  463 days 06:19:11   40025951.0  "
      ]
     },
     "execution_count": 2908,
     "metadata": {},
     "output_type": "execute_result"
    }
   ],
   "source": [
    "train_df.head()"
   ]
  },
  {
   "cell_type": "markdown",
   "metadata": {},
   "source": [
    "#### we will do the same for test data"
   ]
  },
  {
   "cell_type": "code",
   "execution_count": 2909,
   "metadata": {},
   "outputs": [
    {
     "data": {
      "text/html": [
       "<div>\n",
       "<style scoped>\n",
       "    .dataframe tbody tr th:only-of-type {\n",
       "        vertical-align: middle;\n",
       "    }\n",
       "\n",
       "    .dataframe tbody tr th {\n",
       "        vertical-align: top;\n",
       "    }\n",
       "\n",
       "    .dataframe thead th {\n",
       "        text-align: right;\n",
       "    }\n",
       "</style>\n",
       "<table border=\"1\" class=\"dataframe\">\n",
       "  <thead>\n",
       "    <tr style=\"text-align: right;\">\n",
       "      <th></th>\n",
       "      <th>pickup_datetime</th>\n",
       "      <th>pickup_longitude</th>\n",
       "      <th>pickup_latitude</th>\n",
       "      <th>dropoff_longitude</th>\n",
       "      <th>dropoff_latitude</th>\n",
       "      <th>passenger_count</th>\n",
       "      <th>distance</th>\n",
       "      <th>elapsed_time</th>\n",
       "      <th>elapsed_sec</th>\n",
       "    </tr>\n",
       "  </thead>\n",
       "  <tbody>\n",
       "    <tr>\n",
       "      <th>0</th>\n",
       "      <td>2015-01-27 13:08:24+00:00</td>\n",
       "      <td>-73.973320</td>\n",
       "      <td>40.763805</td>\n",
       "      <td>-73.981430</td>\n",
       "      <td>40.743835</td>\n",
       "      <td>1</td>\n",
       "      <td>2.323259</td>\n",
       "      <td>2248 days 11:36:35</td>\n",
       "      <td>194268995.0</td>\n",
       "    </tr>\n",
       "    <tr>\n",
       "      <th>1</th>\n",
       "      <td>2015-01-27 13:08:24+00:00</td>\n",
       "      <td>-73.986862</td>\n",
       "      <td>40.719383</td>\n",
       "      <td>-73.998886</td>\n",
       "      <td>40.739201</td>\n",
       "      <td>1</td>\n",
       "      <td>2.425353</td>\n",
       "      <td>2248 days 11:36:35</td>\n",
       "      <td>194268995.0</td>\n",
       "    </tr>\n",
       "    <tr>\n",
       "      <th>2</th>\n",
       "      <td>2011-10-08 11:53:44+00:00</td>\n",
       "      <td>-73.982524</td>\n",
       "      <td>40.751260</td>\n",
       "      <td>-73.979654</td>\n",
       "      <td>40.746139</td>\n",
       "      <td>1</td>\n",
       "      <td>0.618628</td>\n",
       "      <td>1041 days 10:21:55</td>\n",
       "      <td>89979715.0</td>\n",
       "    </tr>\n",
       "    <tr>\n",
       "      <th>3</th>\n",
       "      <td>2012-12-01 21:12:12+00:00</td>\n",
       "      <td>-73.981160</td>\n",
       "      <td>40.767807</td>\n",
       "      <td>-73.990448</td>\n",
       "      <td>40.751635</td>\n",
       "      <td>1</td>\n",
       "      <td>1.961033</td>\n",
       "      <td>1461 days 19:40:23</td>\n",
       "      <td>126301223.0</td>\n",
       "    </tr>\n",
       "    <tr>\n",
       "      <th>4</th>\n",
       "      <td>2012-12-01 21:12:12+00:00</td>\n",
       "      <td>-73.966046</td>\n",
       "      <td>40.789775</td>\n",
       "      <td>-73.988565</td>\n",
       "      <td>40.744427</td>\n",
       "      <td>1</td>\n",
       "      <td>5.387301</td>\n",
       "      <td>1461 days 19:40:23</td>\n",
       "      <td>126301223.0</td>\n",
       "    </tr>\n",
       "  </tbody>\n",
       "</table>\n",
       "</div>"
      ],
      "text/plain": [
       "            pickup_datetime  pickup_longitude  pickup_latitude  \\\n",
       "0 2015-01-27 13:08:24+00:00        -73.973320        40.763805   \n",
       "1 2015-01-27 13:08:24+00:00        -73.986862        40.719383   \n",
       "2 2011-10-08 11:53:44+00:00        -73.982524        40.751260   \n",
       "3 2012-12-01 21:12:12+00:00        -73.981160        40.767807   \n",
       "4 2012-12-01 21:12:12+00:00        -73.966046        40.789775   \n",
       "\n",
       "   dropoff_longitude  dropoff_latitude  passenger_count  distance  \\\n",
       "0         -73.981430         40.743835                1  2.323259   \n",
       "1         -73.998886         40.739201                1  2.425353   \n",
       "2         -73.979654         40.746139                1  0.618628   \n",
       "3         -73.990448         40.751635                1  1.961033   \n",
       "4         -73.988565         40.744427                1  5.387301   \n",
       "\n",
       "        elapsed_time  elapsed_sec  \n",
       "0 2248 days 11:36:35  194268995.0  \n",
       "1 2248 days 11:36:35  194268995.0  \n",
       "2 1041 days 10:21:55   89979715.0  \n",
       "3 1461 days 19:40:23  126301223.0  \n",
       "4 1461 days 19:40:23  126301223.0  "
      ]
     },
     "execution_count": 2909,
     "metadata": {},
     "output_type": "execute_result"
    }
   ],
   "source": [
    "test_df['elapsed_time'] =\"\"\n",
    "test_df['elapsed_time'] = time_diff(test_df['pickup_datetime'],refernce_date)\n",
    "test_df['elapsed_sec'] =\"\"\n",
    "test_df['elapsed_sec'] = test_df[['elapsed_time']].apply(timedelta_to_seconds,axis=1)\n",
    "test_df.head()\n"
   ]
  },
  {
   "cell_type": "markdown",
   "metadata": {},
   "source": [
    "#### Now we have extract the data we can drop those columns from which we have extracted the new info"
   ]
  },
  {
   "cell_type": "code",
   "execution_count": 2910,
   "metadata": {},
   "outputs": [],
   "source": [
    "drop = ['pickup_datetime','pickup_longitude','pickup_latitude','dropoff_longitude','dropoff_latitude','elapsed_time']\n",
    "train_df.drop(columns=drop,inplace=True)\n",
    "test_df.drop(columns=drop,inplace=True)"
   ]
  },
  {
   "cell_type": "code",
   "execution_count": 2911,
   "metadata": {},
   "outputs": [
    {
     "data": {
      "text/html": [
       "<div>\n",
       "<style scoped>\n",
       "    .dataframe tbody tr th:only-of-type {\n",
       "        vertical-align: middle;\n",
       "    }\n",
       "\n",
       "    .dataframe tbody tr th {\n",
       "        vertical-align: top;\n",
       "    }\n",
       "\n",
       "    .dataframe thead th {\n",
       "        text-align: right;\n",
       "    }\n",
       "</style>\n",
       "<table border=\"1\" class=\"dataframe\">\n",
       "  <thead>\n",
       "    <tr style=\"text-align: right;\">\n",
       "      <th></th>\n",
       "      <th>fare_amount</th>\n",
       "      <th>passenger_count</th>\n",
       "      <th>distance</th>\n",
       "      <th>elapsed_sec</th>\n",
       "    </tr>\n",
       "  </thead>\n",
       "  <tbody>\n",
       "    <tr>\n",
       "      <th>0</th>\n",
       "      <td>4.5</td>\n",
       "      <td>1</td>\n",
       "      <td>1.030764</td>\n",
       "      <td>16991672.0</td>\n",
       "    </tr>\n",
       "    <tr>\n",
       "      <th>1</th>\n",
       "      <td>16.9</td>\n",
       "      <td>1</td>\n",
       "      <td>8.450134</td>\n",
       "      <td>34615227.0</td>\n",
       "    </tr>\n",
       "    <tr>\n",
       "      <th>2</th>\n",
       "      <td>5.7</td>\n",
       "      <td>2</td>\n",
       "      <td>1.389525</td>\n",
       "      <td>85532591.0</td>\n",
       "    </tr>\n",
       "    <tr>\n",
       "      <th>3</th>\n",
       "      <td>7.7</td>\n",
       "      <td>1</td>\n",
       "      <td>2.799270</td>\n",
       "      <td>106887533.0</td>\n",
       "    </tr>\n",
       "    <tr>\n",
       "      <th>4</th>\n",
       "      <td>5.3</td>\n",
       "      <td>1</td>\n",
       "      <td>1.999157</td>\n",
       "      <td>40025951.0</td>\n",
       "    </tr>\n",
       "  </tbody>\n",
       "</table>\n",
       "</div>"
      ],
      "text/plain": [
       "   fare_amount  passenger_count  distance  elapsed_sec\n",
       "0          4.5                1  1.030764   16991672.0\n",
       "1         16.9                1  8.450134   34615227.0\n",
       "2          5.7                2  1.389525   85532591.0\n",
       "3          7.7                1  2.799270  106887533.0\n",
       "4          5.3                1  1.999157   40025951.0"
      ]
     },
     "execution_count": 2911,
     "metadata": {},
     "output_type": "execute_result"
    }
   ],
   "source": [
    "train_df.head()"
   ]
  },
  {
   "cell_type": "code",
   "execution_count": 2912,
   "metadata": {},
   "outputs": [
    {
     "data": {
      "text/html": [
       "<div>\n",
       "<style scoped>\n",
       "    .dataframe tbody tr th:only-of-type {\n",
       "        vertical-align: middle;\n",
       "    }\n",
       "\n",
       "    .dataframe tbody tr th {\n",
       "        vertical-align: top;\n",
       "    }\n",
       "\n",
       "    .dataframe thead th {\n",
       "        text-align: right;\n",
       "    }\n",
       "</style>\n",
       "<table border=\"1\" class=\"dataframe\">\n",
       "  <thead>\n",
       "    <tr style=\"text-align: right;\">\n",
       "      <th></th>\n",
       "      <th>passenger_count</th>\n",
       "      <th>distance</th>\n",
       "      <th>elapsed_sec</th>\n",
       "    </tr>\n",
       "  </thead>\n",
       "  <tbody>\n",
       "    <tr>\n",
       "      <th>0</th>\n",
       "      <td>1</td>\n",
       "      <td>2.323259</td>\n",
       "      <td>194268995.0</td>\n",
       "    </tr>\n",
       "    <tr>\n",
       "      <th>1</th>\n",
       "      <td>1</td>\n",
       "      <td>2.425353</td>\n",
       "      <td>194268995.0</td>\n",
       "    </tr>\n",
       "    <tr>\n",
       "      <th>2</th>\n",
       "      <td>1</td>\n",
       "      <td>0.618628</td>\n",
       "      <td>89979715.0</td>\n",
       "    </tr>\n",
       "    <tr>\n",
       "      <th>3</th>\n",
       "      <td>1</td>\n",
       "      <td>1.961033</td>\n",
       "      <td>126301223.0</td>\n",
       "    </tr>\n",
       "    <tr>\n",
       "      <th>4</th>\n",
       "      <td>1</td>\n",
       "      <td>5.387301</td>\n",
       "      <td>126301223.0</td>\n",
       "    </tr>\n",
       "  </tbody>\n",
       "</table>\n",
       "</div>"
      ],
      "text/plain": [
       "   passenger_count  distance  elapsed_sec\n",
       "0                1  2.323259  194268995.0\n",
       "1                1  2.425353  194268995.0\n",
       "2                1  0.618628   89979715.0\n",
       "3                1  1.961033  126301223.0\n",
       "4                1  5.387301  126301223.0"
      ]
     },
     "execution_count": 2912,
     "metadata": {},
     "output_type": "execute_result"
    }
   ],
   "source": [
    "test_df.head()"
   ]
  },
  {
   "cell_type": "code",
   "execution_count": 2913,
   "metadata": {},
   "outputs": [
    {
     "name": "stdout",
     "output_type": "stream",
     "text": [
      "<class 'pandas.core.frame.DataFrame'>\n",
      "RangeIndex: 15421 entries, 0 to 15420\n",
      "Data columns (total 4 columns):\n",
      "fare_amount        15421 non-null float64\n",
      "passenger_count    15421 non-null int64\n",
      "distance           15421 non-null float64\n",
      "elapsed_sec        15421 non-null float64\n",
      "dtypes: float64(3), int64(1)\n",
      "memory usage: 482.0 KB\n"
     ]
    }
   ],
   "source": [
    "train_df.info()"
   ]
  },
  {
   "cell_type": "code",
   "execution_count": 2914,
   "metadata": {},
   "outputs": [
    {
     "data": {
      "text/html": [
       "<div>\n",
       "<style scoped>\n",
       "    .dataframe tbody tr th:only-of-type {\n",
       "        vertical-align: middle;\n",
       "    }\n",
       "\n",
       "    .dataframe tbody tr th {\n",
       "        vertical-align: top;\n",
       "    }\n",
       "\n",
       "    .dataframe thead th {\n",
       "        text-align: right;\n",
       "    }\n",
       "</style>\n",
       "<table border=\"1\" class=\"dataframe\">\n",
       "  <thead>\n",
       "    <tr style=\"text-align: right;\">\n",
       "      <th></th>\n",
       "      <th>fare_amount</th>\n",
       "      <th>passenger_count</th>\n",
       "      <th>distance</th>\n",
       "      <th>elapsed_sec</th>\n",
       "    </tr>\n",
       "  </thead>\n",
       "  <tbody>\n",
       "    <tr>\n",
       "      <th>count</th>\n",
       "      <td>15421.000000</td>\n",
       "      <td>15421.000000</td>\n",
       "      <td>15421.000000</td>\n",
       "      <td>1.542100e+04</td>\n",
       "    </tr>\n",
       "    <tr>\n",
       "      <th>mean</th>\n",
       "      <td>11.372417</td>\n",
       "      <td>1.652163</td>\n",
       "      <td>4.083020</td>\n",
       "      <td>1.041625e+08</td>\n",
       "    </tr>\n",
       "    <tr>\n",
       "      <th>std</th>\n",
       "      <td>10.674877</td>\n",
       "      <td>1.267784</td>\n",
       "      <td>56.609444</td>\n",
       "      <td>5.864895e+07</td>\n",
       "    </tr>\n",
       "    <tr>\n",
       "      <th>min</th>\n",
       "      <td>1.140000</td>\n",
       "      <td>1.000000</td>\n",
       "      <td>0.000202</td>\n",
       "      <td>2.678400e+06</td>\n",
       "    </tr>\n",
       "    <tr>\n",
       "      <th>25%</th>\n",
       "      <td>6.000000</td>\n",
       "      <td>1.000000</td>\n",
       "      <td>1.278791</td>\n",
       "      <td>5.303691e+07</td>\n",
       "    </tr>\n",
       "    <tr>\n",
       "      <th>50%</th>\n",
       "      <td>8.500000</td>\n",
       "      <td>1.000000</td>\n",
       "      <td>2.193123</td>\n",
       "      <td>1.043291e+08</td>\n",
       "    </tr>\n",
       "    <tr>\n",
       "      <th>75%</th>\n",
       "      <td>12.500000</td>\n",
       "      <td>2.000000</td>\n",
       "      <td>3.938954</td>\n",
       "      <td>1.537458e+08</td>\n",
       "    </tr>\n",
       "    <tr>\n",
       "      <th>max</th>\n",
       "      <td>453.000000</td>\n",
       "      <td>6.000000</td>\n",
       "      <td>5420.988959</td>\n",
       "      <td>2.076090e+08</td>\n",
       "    </tr>\n",
       "  </tbody>\n",
       "</table>\n",
       "</div>"
      ],
      "text/plain": [
       "        fare_amount  passenger_count      distance   elapsed_sec\n",
       "count  15421.000000     15421.000000  15421.000000  1.542100e+04\n",
       "mean      11.372417         1.652163      4.083020  1.041625e+08\n",
       "std       10.674877         1.267784     56.609444  5.864895e+07\n",
       "min        1.140000         1.000000      0.000202  2.678400e+06\n",
       "25%        6.000000         1.000000      1.278791  5.303691e+07\n",
       "50%        8.500000         1.000000      2.193123  1.043291e+08\n",
       "75%       12.500000         2.000000      3.938954  1.537458e+08\n",
       "max      453.000000         6.000000   5420.988959  2.076090e+08"
      ]
     },
     "execution_count": 2914,
     "metadata": {},
     "output_type": "execute_result"
    }
   ],
   "source": [
    "train_df.describe()"
   ]
  },
  {
   "cell_type": "code",
   "execution_count": 2915,
   "metadata": {},
   "outputs": [
    {
     "data": {
      "text/plain": [
       "fare_amount        0\n",
       "passenger_count    0\n",
       "distance           0\n",
       "elapsed_sec        0\n",
       "dtype: int64"
      ]
     },
     "execution_count": 2915,
     "metadata": {},
     "output_type": "execute_result"
    }
   ],
   "source": [
    "train_df.isnull().sum()"
   ]
  },
  {
   "cell_type": "markdown",
   "metadata": {},
   "source": [
    "# Outliers Analysis"
   ]
  },
  {
   "cell_type": "code",
   "execution_count": 2916,
   "metadata": {},
   "outputs": [
    {
     "data": {
      "image/png": "[encoded data removed]",
      "text/plain": [
       "<Figure size 432x288 with 1 Axes>"
      ]
     },
     "metadata": {
      "needs_background": "light"
     },
     "output_type": "display_data"
    },
    {
     "data": {
      "image/png": "[encoded data removed]",
      "text/plain": [
       "<Figure size 432x288 with 1 Axes>"
      ]
     },
     "metadata": {
      "needs_background": "light"
     },
     "output_type": "display_data"
    },
    {
     "data": {
      "image/png": "[encoded data removed]",
      "text/plain": [
       "<Figure size 432x288 with 1 Axes>"
      ]
     },
     "metadata": {
      "needs_background": "light"
     },
     "output_type": "display_data"
    },
    {
     "data": {
      "image/png": "[encoded data removed]",
      "text/plain": [
       "<Figure size 432x288 with 1 Axes>"
      ]
     },
     "metadata": {
      "needs_background": "light"
     },
     "output_type": "display_data"
    }
   ],
   "source": [
    "for i in train_df.columns:\n",
    "    sns.boxplot(y=train_df[i])\n",
    "    plt.title(\"Boxplot of \"+i)\n",
    "    plt.show()"
   ]
  },
  {
   "cell_type": "code",
   "execution_count": 2917,
   "metadata": {},
   "outputs": [
    {
     "data": {
      "text/plain": [
       "Index(['fare_amount', 'passenger_count', 'distance', 'elapsed_sec'], dtype='object')"
      ]
     },
     "execution_count": 2917,
     "metadata": {},
     "output_type": "execute_result"
    }
   ],
   "source": [
    "train_df.columns"
   ]
  },
  {
   "cell_type": "markdown",
   "metadata": {},
   "source": [
    "#### as we can see that there are outliers present"
   ]
  },
  {
   "cell_type": "code",
   "execution_count": 2918,
   "metadata": {},
   "outputs": [
    {
     "data": {
      "text/html": [
       "<div>\n",
       "<style scoped>\n",
       "    .dataframe tbody tr th:only-of-type {\n",
       "        vertical-align: middle;\n",
       "    }\n",
       "\n",
       "    .dataframe tbody tr th {\n",
       "        vertical-align: top;\n",
       "    }\n",
       "\n",
       "    .dataframe thead th {\n",
       "        text-align: right;\n",
       "    }\n",
       "</style>\n",
       "<table border=\"1\" class=\"dataframe\">\n",
       "  <thead>\n",
       "    <tr style=\"text-align: right;\">\n",
       "      <th></th>\n",
       "      <th>0</th>\n",
       "    </tr>\n",
       "  </thead>\n",
       "  <tbody>\n",
       "    <tr>\n",
       "      <th>fare_amount</th>\n",
       "      <td>1342</td>\n",
       "    </tr>\n",
       "    <tr>\n",
       "      <th>passenger_count</th>\n",
       "      <td>0</td>\n",
       "    </tr>\n",
       "    <tr>\n",
       "      <th>distance</th>\n",
       "      <td>1333</td>\n",
       "    </tr>\n",
       "    <tr>\n",
       "      <th>elapsed_sec</th>\n",
       "      <td>0</td>\n",
       "    </tr>\n",
       "  </tbody>\n",
       "</table>\n",
       "</div>"
      ],
      "text/plain": [
       "                    0\n",
       "fare_amount      1342\n",
       "passenger_count     0\n",
       "distance         1333\n",
       "elapsed_sec         0"
      ]
     },
     "execution_count": 2918,
     "metadata": {},
     "output_type": "execute_result"
    }
   ],
   "source": [
    "df = train_df.copy()\n",
    "\n",
    "for var in ['fare_amount','distance', 'elapsed_sec']: # since the passenger count ranges from 1-6 and is fixed we will not consider it in outliers \n",
    "    #Detect and replace with NA\n",
    "    #Extract quartiles\n",
    "    q75, q25 = np.percentile(train_df[var], [75 ,25])\n",
    "    #Calculate IQR\n",
    "    iqr = q75 - q25\n",
    "    # #Calculate inner and outer fence\n",
    "    minimum = q25 - (iqr*1.5)\n",
    "    maximum = q75 + (iqr*1.5)\n",
    "     # #Replace with NA\n",
    "    train_df.loc[train_df[var] < minimum,var] = np.nan\n",
    "    train_df.loc[train_df[var] > maximum,var] = np.nan\n",
    "    \n",
    "# Calculate missing value\n",
    "missing_val = pd.DataFrame(train_df.isnull().sum())\n",
    "missing_val"
   ]
  },
  {
   "cell_type": "code",
   "execution_count": 2919,
   "metadata": {},
   "outputs": [
    {
     "name": "stdout",
     "output_type": "stream",
     "text": [
      "Imputing row 1/15421 with 0 missing, elapsed time: 65.815\n",
      "Imputing row 101/15421 with 0 missing, elapsed time: 65.819\n",
      "Imputing row 201/15421 with 0 missing, elapsed time: 65.824\n",
      "Imputing row 301/15421 with 0 missing, elapsed time: 65.828\n",
      "Imputing row 401/15421 with 0 missing, elapsed time: 65.832\n",
      "Imputing row 501/15421 with 0 missing, elapsed time: 65.838\n",
      "Imputing row 601/15421 with 0 missing, elapsed time: 65.842\n",
      "Imputing row 701/15421 with 0 missing, elapsed time: 65.848\n",
      "Imputing row 801/15421 with 1 missing, elapsed time: 65.854\n",
      "Imputing row 901/15421 with 0 missing, elapsed time: 65.857\n",
      "Imputing row 1001/15421 with 0 missing, elapsed time: 65.861\n",
      "Imputing row 1101/15421 with 0 missing, elapsed time: 65.866\n",
      "Imputing row 1201/15421 with 0 missing, elapsed time: 65.869\n",
      "Imputing row 1301/15421 with 0 missing, elapsed time: 65.873\n",
      "Imputing row 1401/15421 with 0 missing, elapsed time: 65.877\n",
      "Imputing row 1501/15421 with 0 missing, elapsed time: 65.881\n",
      "Imputing row 1601/15421 with 0 missing, elapsed time: 65.885\n",
      "Imputing row 1701/15421 with 0 missing, elapsed time: 65.889\n",
      "Imputing row 1801/15421 with 0 missing, elapsed time: 65.893\n",
      "Imputing row 1901/15421 with 0 missing, elapsed time: 65.897\n",
      "Imputing row 2001/15421 with 0 missing, elapsed time: 65.902\n",
      "Imputing row 2101/15421 with 0 missing, elapsed time: 65.907\n",
      "Imputing row 2201/15421 with 0 missing, elapsed time: 65.912\n",
      "Imputing row 2301/15421 with 0 missing, elapsed time: 65.916\n",
      "Imputing row 2401/15421 with 0 missing, elapsed time: 65.918\n",
      "Imputing row 2501/15421 with 0 missing, elapsed time: 65.924\n",
      "Imputing row 2601/15421 with 0 missing, elapsed time: 65.927\n",
      "Imputing row 2701/15421 with 0 missing, elapsed time: 65.931\n",
      "Imputing row 2801/15421 with 0 missing, elapsed time: 65.934\n",
      "Imputing row 2901/15421 with 0 missing, elapsed time: 65.938\n",
      "Imputing row 3001/15421 with 0 missing, elapsed time: 65.941\n",
      "Imputing row 3101/15421 with 0 missing, elapsed time: 65.945\n",
      "Imputing row 3201/15421 with 0 missing, elapsed time: 65.951\n",
      "Imputing row 3301/15421 with 2 missing, elapsed time: 65.954\n",
      "Imputing row 3401/15421 with 0 missing, elapsed time: 65.958\n",
      "Imputing row 3501/15421 with 0 missing, elapsed time: 65.962\n",
      "Imputing row 3601/15421 with 0 missing, elapsed time: 65.966\n",
      "Imputing row 3701/15421 with 0 missing, elapsed time: 65.969\n",
      "Imputing row 3801/15421 with 0 missing, elapsed time: 65.972\n",
      "Imputing row 3901/15421 with 0 missing, elapsed time: 65.976\n",
      "Imputing row 4001/15421 with 0 missing, elapsed time: 65.979\n",
      "Imputing row 4101/15421 with 0 missing, elapsed time: 65.983\n",
      "Imputing row 4201/15421 with 0 missing, elapsed time: 65.987\n",
      "Imputing row 4301/15421 with 0 missing, elapsed time: 65.994\n",
      "Imputing row 4401/15421 with 0 missing, elapsed time: 65.999\n",
      "Imputing row 4501/15421 with 0 missing, elapsed time: 66.005\n",
      "Imputing row 4601/15421 with 0 missing, elapsed time: 66.011\n",
      "Imputing row 4701/15421 with 0 missing, elapsed time: 66.014\n",
      "Imputing row 4801/15421 with 0 missing, elapsed time: 66.017\n",
      "Imputing row 4901/15421 with 0 missing, elapsed time: 66.021\n",
      "Imputing row 5001/15421 with 0 missing, elapsed time: 66.025\n",
      "Imputing row 5101/15421 with 0 missing, elapsed time: 66.028\n",
      "Imputing row 5201/15421 with 0 missing, elapsed time: 66.031\n",
      "Imputing row 5301/15421 with 0 missing, elapsed time: 66.034\n",
      "Imputing row 5401/15421 with 0 missing, elapsed time: 66.040\n",
      "Imputing row 5501/15421 with 0 missing, elapsed time: 66.044\n",
      "Imputing row 5601/15421 with 0 missing, elapsed time: 66.048\n",
      "Imputing row 5701/15421 with 0 missing, elapsed time: 66.052\n",
      "Imputing row 5801/15421 with 0 missing, elapsed time: 66.056\n",
      "Imputing row 5901/15421 with 0 missing, elapsed time: 66.061\n",
      "Imputing row 6001/15421 with 0 missing, elapsed time: 66.070\n",
      "Imputing row 6101/15421 with 0 missing, elapsed time: 66.075\n",
      "Imputing row 6201/15421 with 1 missing, elapsed time: 66.079\n",
      "Imputing row 6301/15421 with 0 missing, elapsed time: 66.084\n",
      "Imputing row 6401/15421 with 0 missing, elapsed time: 66.089\n",
      "Imputing row 6501/15421 with 0 missing, elapsed time: 66.092\n",
      "Imputing row 6601/15421 with 0 missing, elapsed time: 66.096\n",
      "Imputing row 6701/15421 with 0 missing, elapsed time: 66.102\n",
      "Imputing row 6801/15421 with 0 missing, elapsed time: 66.106\n",
      "Imputing row 6901/15421 with 2 missing, elapsed time: 66.110\n",
      "Imputing row 7001/15421 with 0 missing, elapsed time: 66.113\n",
      "Imputing row 7101/15421 with 1 missing, elapsed time: 66.118\n",
      "Imputing row 7201/15421 with 0 missing, elapsed time: 66.122\n",
      "Imputing row 7301/15421 with 0 missing, elapsed time: 66.127\n",
      "Imputing row 7401/15421 with 0 missing, elapsed time: 66.132\n",
      "Imputing row 7501/15421 with 0 missing, elapsed time: 66.136\n",
      "Imputing row 7601/15421 with 0 missing, elapsed time: 66.139\n",
      "Imputing row 7701/15421 with 0 missing, elapsed time: 66.144\n",
      "Imputing row 7801/15421 with 0 missing, elapsed time: 66.150\n",
      "Imputing row 7901/15421 with 0 missing, elapsed time: 66.154\n",
      "Imputing row 8001/15421 with 0 missing, elapsed time: 66.157\n",
      "Imputing row 8101/15421 with 0 missing, elapsed time: 66.160\n",
      "Imputing row 8201/15421 with 0 missing, elapsed time: 66.166\n",
      "Imputing row 8301/15421 with 0 missing, elapsed time: 66.169\n",
      "Imputing row 8401/15421 with 0 missing, elapsed time: 66.173\n",
      "Imputing row 8501/15421 with 0 missing, elapsed time: 66.175\n",
      "Imputing row 8601/15421 with 0 missing, elapsed time: 66.179\n",
      "Imputing row 8701/15421 with 0 missing, elapsed time: 66.184\n",
      "Imputing row 8801/15421 with 0 missing, elapsed time: 66.188\n",
      "Imputing row 8901/15421 with 0 missing, elapsed time: 66.190\n",
      "Imputing row 9001/15421 with 0 missing, elapsed time: 66.193\n",
      "Imputing row 9101/15421 with 0 missing, elapsed time: 66.196\n",
      "Imputing row 9201/15421 with 0 missing, elapsed time: 66.198\n",
      "Imputing row 9301/15421 with 0 missing, elapsed time: 66.202\n",
      "Imputing row 9401/15421 with 0 missing, elapsed time: 66.206\n",
      "Imputing row 9501/15421 with 0 missing, elapsed time: 66.211\n",
      "Imputing row 9601/15421 with 0 missing, elapsed time: 66.217\n",
      "Imputing row 9701/15421 with 0 missing, elapsed time: 66.220\n",
      "Imputing row 9801/15421 with 0 missing, elapsed time: 66.225\n",
      "Imputing row 9901/15421 with 0 missing, elapsed time: 66.230\n",
      "Imputing row 10001/15421 with 0 missing, elapsed time: 66.233\n",
      "Imputing row 10101/15421 with 2 missing, elapsed time: 66.237\n",
      "Imputing row 10201/15421 with 0 missing, elapsed time: 66.242\n",
      "Imputing row 10301/15421 with 0 missing, elapsed time: 66.246\n",
      "Imputing row 10401/15421 with 0 missing, elapsed time: 66.249\n",
      "Imputing row 10501/15421 with 0 missing, elapsed time: 66.252\n",
      "Imputing row 10601/15421 with 0 missing, elapsed time: 66.256\n",
      "Imputing row 10701/15421 with 0 missing, elapsed time: 66.260\n",
      "Imputing row 10801/15421 with 0 missing, elapsed time: 66.262\n",
      "Imputing row 10901/15421 with 0 missing, elapsed time: 66.267\n",
      "Imputing row 11001/15421 with 0 missing, elapsed time: 66.269\n",
      "Imputing row 11101/15421 with 0 missing, elapsed time: 66.273\n",
      "Imputing row 11201/15421 with 0 missing, elapsed time: 66.278\n",
      "Imputing row 11301/15421 with 0 missing, elapsed time: 66.283\n",
      "Imputing row 11401/15421 with 0 missing, elapsed time: 66.287\n",
      "Imputing row 11501/15421 with 0 missing, elapsed time: 66.291\n",
      "Imputing row 11601/15421 with 0 missing, elapsed time: 66.297\n",
      "Imputing row 11701/15421 with 0 missing, elapsed time: 66.301\n",
      "Imputing row 11801/15421 with 0 missing, elapsed time: 66.305\n",
      "Imputing row 11901/15421 with 0 missing, elapsed time: 66.309\n",
      "Imputing row 12001/15421 with 0 missing, elapsed time: 66.314\n",
      "Imputing row 12101/15421 with 0 missing, elapsed time: 66.315\n",
      "Imputing row 12201/15421 with 0 missing, elapsed time: 66.319\n",
      "Imputing row 12301/15421 with 0 missing, elapsed time: 66.322\n",
      "Imputing row 12401/15421 with 0 missing, elapsed time: 66.325\n",
      "Imputing row 12501/15421 with 0 missing, elapsed time: 66.330\n",
      "Imputing row 12601/15421 with 0 missing, elapsed time: 66.334\n",
      "Imputing row 12701/15421 with 0 missing, elapsed time: 66.337\n",
      "Imputing row 12801/15421 with 0 missing, elapsed time: 66.340\n",
      "Imputing row 12901/15421 with 1 missing, elapsed time: 66.345\n",
      "Imputing row 13001/15421 with 0 missing, elapsed time: 66.349\n",
      "Imputing row 13101/15421 with 2 missing, elapsed time: 66.354\n",
      "Imputing row 13201/15421 with 0 missing, elapsed time: 66.358\n",
      "Imputing row 13301/15421 with 0 missing, elapsed time: 66.362\n",
      "Imputing row 13401/15421 with 0 missing, elapsed time: 66.367\n"
     ]
    },
    {
     "name": "stdout",
     "output_type": "stream",
     "text": [
      "Imputing row 13501/15421 with 0 missing, elapsed time: 66.371\n",
      "Imputing row 13601/15421 with 0 missing, elapsed time: 66.376\n",
      "Imputing row 13701/15421 with 0 missing, elapsed time: 66.379\n",
      "Imputing row 13801/15421 with 0 missing, elapsed time: 66.385\n",
      "Imputing row 13901/15421 with 0 missing, elapsed time: 66.387\n",
      "Imputing row 14001/15421 with 0 missing, elapsed time: 66.393\n",
      "Imputing row 14101/15421 with 0 missing, elapsed time: 66.396\n",
      "Imputing row 14201/15421 with 0 missing, elapsed time: 66.399\n",
      "Imputing row 14301/15421 with 0 missing, elapsed time: 66.402\n",
      "Imputing row 14401/15421 with 0 missing, elapsed time: 66.407\n",
      "Imputing row 14501/15421 with 0 missing, elapsed time: 66.414\n",
      "Imputing row 14601/15421 with 0 missing, elapsed time: 66.418\n",
      "Imputing row 14701/15421 with 0 missing, elapsed time: 66.422\n",
      "Imputing row 14801/15421 with 1 missing, elapsed time: 66.426\n",
      "Imputing row 14901/15421 with 0 missing, elapsed time: 66.429\n",
      "Imputing row 15001/15421 with 0 missing, elapsed time: 66.434\n",
      "Imputing row 15101/15421 with 0 missing, elapsed time: 66.437\n",
      "Imputing row 15201/15421 with 0 missing, elapsed time: 66.444\n",
      "Imputing row 15301/15421 with 0 missing, elapsed time: 66.449\n",
      "Imputing row 15401/15421 with 0 missing, elapsed time: 66.454\n"
     ]
    }
   ],
   "source": [
    "clean_train_df = pd.DataFrame(KNN(k = 3).fit_transform(train_df), columns=train_df.columns,index=train_df.index)"
   ]
  },
  {
   "cell_type": "code",
   "execution_count": 2920,
   "metadata": {},
   "outputs": [
    {
     "name": "stdout",
     "output_type": "stream",
     "text": [
      "<class 'pandas.core.frame.DataFrame'>\n",
      "RangeIndex: 15421 entries, 0 to 15420\n",
      "Data columns (total 4 columns):\n",
      "fare_amount        15421 non-null float64\n",
      "passenger_count    15421 non-null float64\n",
      "distance           15421 non-null float64\n",
      "elapsed_sec        15421 non-null float64\n",
      "dtypes: float64(4)\n",
      "memory usage: 482.0 KB\n"
     ]
    }
   ],
   "source": [
    "clean_train_df.info()"
   ]
  },
  {
   "cell_type": "code",
   "execution_count": 2921,
   "metadata": {},
   "outputs": [],
   "source": [
    "clean_train_df.passenger_count = clean_train_df.passenger_count.astype('int64')"
   ]
  },
  {
   "cell_type": "code",
   "execution_count": 2922,
   "metadata": {},
   "outputs": [
    {
     "name": "stdout",
     "output_type": "stream",
     "text": [
      "<class 'pandas.core.frame.DataFrame'>\n",
      "RangeIndex: 15421 entries, 0 to 15420\n",
      "Data columns (total 4 columns):\n",
      "fare_amount        15421 non-null float64\n",
      "passenger_count    15421 non-null int64\n",
      "distance           15421 non-null float64\n",
      "elapsed_sec        15421 non-null float64\n",
      "dtypes: float64(3), int64(1)\n",
      "memory usage: 482.0 KB\n"
     ]
    }
   ],
   "source": [
    "clean_train_df.info()"
   ]
  },
  {
   "cell_type": "code",
   "execution_count": 2923,
   "metadata": {},
   "outputs": [
    {
     "data": {
      "text/plain": [
       "fare_amount        0\n",
       "passenger_count    0\n",
       "distance           0\n",
       "elapsed_sec        0\n",
       "dtype: int64"
      ]
     },
     "execution_count": 2923,
     "metadata": {},
     "output_type": "execute_result"
    }
   ],
   "source": [
    "clean_train_df.isnull().sum()"
   ]
  },
  {
   "cell_type": "markdown",
   "metadata": {},
   "source": [
    "# Data Visualization"
   ]
  },
  {
   "cell_type": "code",
   "execution_count": 2924,
   "metadata": {},
   "outputs": [
    {
     "data": {
      "text/plain": [
       "<matplotlib.axes._subplots.AxesSubplot at 0x1cd120b0da0>"
      ]
     },
     "execution_count": 2924,
     "metadata": {},
     "output_type": "execute_result"
    },
    {
     "data": {
      "image/png": "[encoded data removed]",
      "text/plain": [
       "<Figure size 1080x504 with 1 Axes>"
      ]
     },
     "metadata": {
      "needs_background": "light"
     },
     "output_type": "display_data"
    }
   ],
   "source": [
    "#Realationship bwetween passenger_count and fare_amount\n",
    "plt.figure(figsize=(15,7))\n",
    "sns.scatterplot(x=train_df['passenger_count'],y=train_df['fare_amount'])"
   ]
  },
  {
   "cell_type": "code",
   "execution_count": 2925,
   "metadata": {},
   "outputs": [
    {
     "data": {
      "text/plain": [
       "<matplotlib.axes._subplots.AxesSubplot at 0x1ccfea9a518>"
      ]
     },
     "execution_count": 2925,
     "metadata": {},
     "output_type": "execute_result"
    },
    {
     "data": {
      "image/png": "[encoded data removed]",
      "text/plain": [
       "<Figure size 1080x504 with 1 Axes>"
      ]
     },
     "metadata": {
      "needs_background": "light"
     },
     "output_type": "display_data"
    }
   ],
   "source": [
    "# Count plot on passenger count\n",
    "plt.figure(figsize=(15,7))\n",
    "sns.countplot(x=\"passenger_count\", data=clean_train_df)"
   ]
  },
  {
   "cell_type": "code",
   "execution_count": 2926,
   "metadata": {},
   "outputs": [
    {
     "data": {
      "text/plain": [
       "<matplotlib.axes._subplots.AxesSubplot at 0x1ccfeabc048>"
      ]
     },
     "execution_count": 2926,
     "metadata": {},
     "output_type": "execute_result"
    },
    {
     "data": {
      "image/png": "[encoded data removed]",
      "text/plain": [
       "<Figure size 1080x504 with 1 Axes>"
      ]
     },
     "metadata": {
      "needs_background": "light"
     },
     "output_type": "display_data"
    }
   ],
   "source": [
    "#check Relationship bewteen fare_amount and distance\n",
    "plt.figure(figsize=(15,7))\n",
    "sns.scatterplot(y=clean_train_df['fare_amount'],x=clean_train_df['distance'])"
   ]
  },
  {
   "cell_type": "code",
   "execution_count": 2927,
   "metadata": {},
   "outputs": [
    {
     "data": {
      "text/plain": [
       "<matplotlib.axes._subplots.AxesSubplot at 0x1ccfe868240>"
      ]
     },
     "execution_count": 2927,
     "metadata": {},
     "output_type": "execute_result"
    },
    {
     "data": {
      "image/png": "[encoded data removed]",
      "text/plain": [
       "<Figure size 1080x504 with 1 Axes>"
      ]
     },
     "metadata": {
      "needs_background": "light"
     },
     "output_type": "display_data"
    }
   ],
   "source": [
    "#check Realtionship between fare_amount and elapsed_sec\n",
    "plt.figure(figsize=(15,7))\n",
    "sns.scatterplot(y=clean_train_df['fare_amount'],x=clean_train_df['elapsed_sec'])\n",
    "               "
   ]
  },
  {
   "cell_type": "markdown",
   "metadata": {},
   "source": [
    "# Feature Selection"
   ]
  },
  {
   "cell_type": "code",
   "execution_count": 2928,
   "metadata": {},
   "outputs": [
    {
     "data": {
      "image/png": "[encoded data removed]",
      "text/plain": [
       "<Figure size 720x720 with 2 Axes>"
      ]
     },
     "metadata": {
      "needs_background": "light"
     },
     "output_type": "display_data"
    }
   ],
   "source": [
    "#plot the heat map to check correlation\n",
    "df_corr = clean_train_df.copy()\n",
    "f, ax = plt.subplots(figsize=(10,10))\n",
    "corr = df_corr.corr()\n",
    "sns.heatmap(data=corr,annot=True,square=True,linewidths=0.5,linecolor='w')\n",
    "plt.title(\"Correlation between all continous variables\")\n",
    "plt.show()"
   ]
  },
  {
   "cell_type": "markdown",
   "metadata": {},
   "source": [
    "#### Weak positive correlation would be in the range of 0.1 to 0.3, moderate positive correlation from 0.3 to 0.5, and strong positive correlation from 0.5 to 1.0."
   ]
  },
  {
   "cell_type": "markdown",
   "metadata": {},
   "source": [
    "# Feature Scaling"
   ]
  },
  {
   "cell_type": "code",
   "execution_count": 2929,
   "metadata": {},
   "outputs": [
    {
     "data": {
      "text/html": [
       "<div>\n",
       "<style scoped>\n",
       "    .dataframe tbody tr th:only-of-type {\n",
       "        vertical-align: middle;\n",
       "    }\n",
       "\n",
       "    .dataframe tbody tr th {\n",
       "        vertical-align: top;\n",
       "    }\n",
       "\n",
       "    .dataframe thead th {\n",
       "        text-align: right;\n",
       "    }\n",
       "</style>\n",
       "<table border=\"1\" class=\"dataframe\">\n",
       "  <thead>\n",
       "    <tr style=\"text-align: right;\">\n",
       "      <th></th>\n",
       "      <th>fare_amount</th>\n",
       "      <th>passenger_count</th>\n",
       "      <th>distance</th>\n",
       "      <th>elapsed_sec</th>\n",
       "    </tr>\n",
       "  </thead>\n",
       "  <tbody>\n",
       "    <tr>\n",
       "      <th>count</th>\n",
       "      <td>15421.000000</td>\n",
       "      <td>15421.000000</td>\n",
       "      <td>15421.000000</td>\n",
       "      <td>1.542100e+04</td>\n",
       "    </tr>\n",
       "    <tr>\n",
       "      <th>mean</th>\n",
       "      <td>8.948871</td>\n",
       "      <td>1.652163</td>\n",
       "      <td>2.466813</td>\n",
       "      <td>1.041625e+08</td>\n",
       "    </tr>\n",
       "    <tr>\n",
       "      <th>std</th>\n",
       "      <td>4.076201</td>\n",
       "      <td>1.267784</td>\n",
       "      <td>1.639679</td>\n",
       "      <td>5.864895e+07</td>\n",
       "    </tr>\n",
       "    <tr>\n",
       "      <th>min</th>\n",
       "      <td>1.140000</td>\n",
       "      <td>1.000000</td>\n",
       "      <td>0.000202</td>\n",
       "      <td>2.678400e+06</td>\n",
       "    </tr>\n",
       "    <tr>\n",
       "      <th>25%</th>\n",
       "      <td>6.000000</td>\n",
       "      <td>1.000000</td>\n",
       "      <td>1.236875</td>\n",
       "      <td>5.303691e+07</td>\n",
       "    </tr>\n",
       "    <tr>\n",
       "      <th>50%</th>\n",
       "      <td>8.000000</td>\n",
       "      <td>1.000000</td>\n",
       "      <td>2.023432</td>\n",
       "      <td>1.043291e+08</td>\n",
       "    </tr>\n",
       "    <tr>\n",
       "      <th>75%</th>\n",
       "      <td>11.000000</td>\n",
       "      <td>2.000000</td>\n",
       "      <td>3.268998</td>\n",
       "      <td>1.537458e+08</td>\n",
       "    </tr>\n",
       "    <tr>\n",
       "      <th>max</th>\n",
       "      <td>22.100000</td>\n",
       "      <td>6.000000</td>\n",
       "      <td>7.929039</td>\n",
       "      <td>2.076090e+08</td>\n",
       "    </tr>\n",
       "  </tbody>\n",
       "</table>\n",
       "</div>"
      ],
      "text/plain": [
       "        fare_amount  passenger_count      distance   elapsed_sec\n",
       "count  15421.000000     15421.000000  15421.000000  1.542100e+04\n",
       "mean       8.948871         1.652163      2.466813  1.041625e+08\n",
       "std        4.076201         1.267784      1.639679  5.864895e+07\n",
       "min        1.140000         1.000000      0.000202  2.678400e+06\n",
       "25%        6.000000         1.000000      1.236875  5.303691e+07\n",
       "50%        8.000000         1.000000      2.023432  1.043291e+08\n",
       "75%       11.000000         2.000000      3.268998  1.537458e+08\n",
       "max       22.100000         6.000000      7.929039  2.076090e+08"
      ]
     },
     "execution_count": 2929,
     "metadata": {},
     "output_type": "execute_result"
    }
   ],
   "source": [
    "clean_train_df.describe() #check min max and std before feature scaling"
   ]
  },
  {
   "cell_type": "code",
   "execution_count": 2930,
   "metadata": {},
   "outputs": [
    {
     "data": {
      "text/plain": [
       "<matplotlib.axes._subplots.AxesSubplot at 0x1ccfede02b0>"
      ]
     },
     "execution_count": 2930,
     "metadata": {},
     "output_type": "execute_result"
    },
    {
     "data": {
      "image/png": "[encoded data removed]",
      "text/plain": [
       "<Figure size 432x288 with 1 Axes>"
      ]
     },
     "metadata": {
      "needs_background": "light"
     },
     "output_type": "display_data"
    }
   ],
   "source": [
    "#Normality check\n",
    "sns.distplot(clean_train_df['fare_amount'])"
   ]
  },
  {
   "cell_type": "code",
   "execution_count": 2931,
   "metadata": {},
   "outputs": [
    {
     "data": {
      "text/plain": [
       "<matplotlib.axes._subplots.AxesSubplot at 0x1cd120747b8>"
      ]
     },
     "execution_count": 2931,
     "metadata": {},
     "output_type": "execute_result"
    },
    {
     "data": {
      "image/png": "[encoded data removed]",
      "text/plain": [
       "<Figure size 432x288 with 1 Axes>"
      ]
     },
     "metadata": {
      "needs_background": "light"
     },
     "output_type": "display_data"
    }
   ],
   "source": [
    "sns.distplot(clean_train_df['passenger_count'])"
   ]
  },
  {
   "cell_type": "code",
   "execution_count": 2932,
   "metadata": {},
   "outputs": [
    {
     "data": {
      "text/plain": [
       "<matplotlib.axes._subplots.AxesSubplot at 0x1ccfefda3c8>"
      ]
     },
     "execution_count": 2932,
     "metadata": {},
     "output_type": "execute_result"
    },
    {
     "data": {
      "image/png": "[encoded data removed]",
      "text/plain": [
       "<Figure size 432x288 with 1 Axes>"
      ]
     },
     "metadata": {
      "needs_background": "light"
     },
     "output_type": "display_data"
    }
   ],
   "source": [
    "sns.distplot(clean_train_df['distance'])"
   ]
  },
  {
   "cell_type": "code",
   "execution_count": 2933,
   "metadata": {},
   "outputs": [
    {
     "data": {
      "text/plain": [
       "<matplotlib.axes._subplots.AxesSubplot at 0x1ccff036080>"
      ]
     },
     "execution_count": 2933,
     "metadata": {},
     "output_type": "execute_result"
    },
    {
     "data": {
      "image/png": "[encoded data removed]",
      "text/plain": [
       "<Figure size 432x288 with 1 Axes>"
      ]
     },
     "metadata": {
      "needs_background": "light"
     },
     "output_type": "display_data"
    }
   ],
   "source": [
    "sns.distplot(clean_train_df['elapsed_sec'])"
   ]
  },
  {
   "cell_type": "code",
   "execution_count": 2934,
   "metadata": {},
   "outputs": [],
   "source": [
    "#Lets normalize \n",
    "clean_train_df['elapsed_sec'] = (clean_train_df['elapsed_sec'] - min(clean_train_df['elapsed_sec']))/(max(clean_train_df['elapsed_sec']) - min(clean_train_df['elapsed_sec']))"
   ]
  },
  {
   "cell_type": "code",
   "execution_count": 2935,
   "metadata": {},
   "outputs": [
    {
     "data": {
      "text/plain": [
       "<matplotlib.axes._subplots.AxesSubplot at 0x1ccfeecc128>"
      ]
     },
     "execution_count": 2935,
     "metadata": {},
     "output_type": "execute_result"
    },
    {
     "data": {
      "image/png": "[encoded data removed]",
      "text/plain": [
       "<Figure size 432x288 with 1 Axes>"
      ]
     },
     "metadata": {
      "needs_background": "light"
     },
     "output_type": "display_data"
    }
   ],
   "source": [
    "sns.distplot(clean_train_df['elapsed_sec'])"
   ]
  },
  {
   "cell_type": "code",
   "execution_count": 2936,
   "metadata": {},
   "outputs": [
    {
     "name": "stdout",
     "output_type": "stream",
     "text": [
      "Skewness of fare_amount :  1.025278015372948 \n",
      "\n",
      "Skewness of passenger_count :  2.0712905923822933 \n",
      "\n",
      "Skewness of distance :  1.1126410119951426 \n",
      "\n",
      "Skewness of elapsed_sec :  0.012727027937341207 \n",
      "\n"
     ]
    }
   ],
   "source": [
    "#Lets check the skweness\n",
    "for var in clean_train_df.columns:\n",
    "        print(\"Skewness of\", var , \": \",clean_train_df[var].skew(),\"\\n\")\n",
    "    "
   ]
  },
  {
   "cell_type": "markdown",
   "metadata": {},
   "source": [
    "### The rule of thumb seems to be:\n",
    "    1.If skewness is less than -1 or greater than 1, the distribution is highly skewed.\n",
    "    2.If skewness is between -1 and -0.5 or between 0.5 and 1, the distribution is moderately skewed.\n",
    "    3.If skewness is between -0.5 and 0.5, the distribution is approximately symmetric.\n",
    "    \n",
    "The skewness for a normal distribution is zero, and any symmetric data should have a skewness near zero. Negative values for the skewness indicate data that are skewed left and positive values for the skewness indicate data that are skewed right."
   ]
  },
  {
   "cell_type": "code",
   "execution_count": 2937,
   "metadata": {},
   "outputs": [],
   "source": [
    "clean_train_df.passenger_count = clean_train_df.passenger_count.astype('category')"
   ]
  },
  {
   "cell_type": "code",
   "execution_count": 2938,
   "metadata": {},
   "outputs": [],
   "source": [
    "#since skewness of target variable is high, apply log transform to reduce the skewness-\n",
    "clean_train_df['fare_amount'] = np.log1p(clean_train_df['fare_amount'])\n",
    "#since skewness of distance variable is high, apply log transform to reduce the skewness-\n",
    "clean_train_df['distance'] = np.log1p(clean_train_df['distance'])"
   ]
  },
  {
   "cell_type": "code",
   "execution_count": 2939,
   "metadata": {},
   "outputs": [
    {
     "data": {
      "text/plain": [
       "<matplotlib.axes._subplots.AxesSubplot at 0x1ccf394c978>"
      ]
     },
     "execution_count": 2939,
     "metadata": {},
     "output_type": "execute_result"
    },
    {
     "data": {
      "image/png": "[encoded data removed]",
      "text/plain": [
       "<Figure size 432x288 with 1 Axes>"
      ]
     },
     "metadata": {
      "needs_background": "light"
     },
     "output_type": "display_data"
    }
   ],
   "source": [
    "sns.distplot(clean_train_df['fare_amount'])"
   ]
  },
  {
   "cell_type": "code",
   "execution_count": 2940,
   "metadata": {},
   "outputs": [
    {
     "data": {
      "text/plain": [
       "<matplotlib.axes._subplots.AxesSubplot at 0x1cd12b9a6a0>"
      ]
     },
     "execution_count": 2940,
     "metadata": {},
     "output_type": "execute_result"
    },
    {
     "data": {
      "image/png": "[encoded data removed]",
      "text/plain": [
       "<Figure size 432x288 with 1 Axes>"
      ]
     },
     "metadata": {
      "needs_background": "light"
     },
     "output_type": "display_data"
    }
   ],
   "source": [
    "sns.distplot(clean_train_df['distance'])"
   ]
  },
  {
   "cell_type": "code",
   "execution_count": 2941,
   "metadata": {},
   "outputs": [
    {
     "name": "stdout",
     "output_type": "stream",
     "text": [
      "Skewness of fare_amount :  0.21527327089853524 \n",
      "\n",
      "Skewness of distance :  0.20009538679423 \n",
      "\n"
     ]
    }
   ],
   "source": [
    "for var in ['fare_amount','distance']:\n",
    "        print(\"Skewness of\", var , \": \",clean_train_df[var].skew(),\"\\n\")\n",
    "\n",
    "#All good now"
   ]
  },
  {
   "cell_type": "code",
   "execution_count": 2942,
   "metadata": {},
   "outputs": [],
   "source": [
    "# we have to do the same transformation on test data\n",
    "test_df['elapsed_sec'] = (test_df['elapsed_sec'] - min(test_df['elapsed_sec']))/(max(test_df['elapsed_sec']) - min(test_df['elapsed_sec']))"
   ]
  },
  {
   "cell_type": "code",
   "execution_count": 2943,
   "metadata": {},
   "outputs": [],
   "source": [
    "test_df['distance'] = np.log1p(test_df['distance'])"
   ]
  },
  {
   "cell_type": "code",
   "execution_count": 2944,
   "metadata": {},
   "outputs": [
    {
     "data": {
      "text/html": [
       "<div>\n",
       "<style scoped>\n",
       "    .dataframe tbody tr th:only-of-type {\n",
       "        vertical-align: middle;\n",
       "    }\n",
       "\n",
       "    .dataframe tbody tr th {\n",
       "        vertical-align: top;\n",
       "    }\n",
       "\n",
       "    .dataframe thead th {\n",
       "        text-align: right;\n",
       "    }\n",
       "</style>\n",
       "<table border=\"1\" class=\"dataframe\">\n",
       "  <thead>\n",
       "    <tr style=\"text-align: right;\">\n",
       "      <th></th>\n",
       "      <th>passenger_count</th>\n",
       "      <th>distance</th>\n",
       "      <th>elapsed_sec</th>\n",
       "    </tr>\n",
       "  </thead>\n",
       "  <tbody>\n",
       "    <tr>\n",
       "      <th>count</th>\n",
       "      <td>9914.000000</td>\n",
       "      <td>9914.000000</td>\n",
       "      <td>9914.000000</td>\n",
       "    </tr>\n",
       "    <tr>\n",
       "      <th>mean</th>\n",
       "      <td>1.671273</td>\n",
       "      <td>1.270879</td>\n",
       "      <td>0.514862</td>\n",
       "    </tr>\n",
       "    <tr>\n",
       "      <th>std</th>\n",
       "      <td>1.278747</td>\n",
       "      <td>0.610763</td>\n",
       "      <td>0.272658</td>\n",
       "    </tr>\n",
       "    <tr>\n",
       "      <th>min</th>\n",
       "      <td>1.000000</td>\n",
       "      <td>0.000000</td>\n",
       "      <td>0.000000</td>\n",
       "    </tr>\n",
       "    <tr>\n",
       "      <th>25%</th>\n",
       "      <td>1.000000</td>\n",
       "      <td>0.832160</td>\n",
       "      <td>0.289004</td>\n",
       "    </tr>\n",
       "    <tr>\n",
       "      <th>50%</th>\n",
       "      <td>1.000000</td>\n",
       "      <td>1.168577</td>\n",
       "      <td>0.472238</td>\n",
       "    </tr>\n",
       "    <tr>\n",
       "      <th>75%</th>\n",
       "      <td>2.000000</td>\n",
       "      <td>1.618457</td>\n",
       "      <td>0.774353</td>\n",
       "    </tr>\n",
       "    <tr>\n",
       "      <th>max</th>\n",
       "      <td>6.000000</td>\n",
       "      <td>4.615081</td>\n",
       "      <td>1.000000</td>\n",
       "    </tr>\n",
       "  </tbody>\n",
       "</table>\n",
       "</div>"
      ],
      "text/plain": [
       "       passenger_count     distance  elapsed_sec\n",
       "count      9914.000000  9914.000000  9914.000000\n",
       "mean          1.671273     1.270879     0.514862\n",
       "std           1.278747     0.610763     0.272658\n",
       "min           1.000000     0.000000     0.000000\n",
       "25%           1.000000     0.832160     0.289004\n",
       "50%           1.000000     1.168577     0.472238\n",
       "75%           2.000000     1.618457     0.774353\n",
       "max           6.000000     4.615081     1.000000"
      ]
     },
     "execution_count": 2944,
     "metadata": {},
     "output_type": "execute_result"
    }
   ],
   "source": [
    "test_df.describe()"
   ]
  },
  {
   "cell_type": "code",
   "execution_count": 2945,
   "metadata": {},
   "outputs": [
    {
     "data": {
      "text/html": [
       "<div>\n",
       "<style scoped>\n",
       "    .dataframe tbody tr th:only-of-type {\n",
       "        vertical-align: middle;\n",
       "    }\n",
       "\n",
       "    .dataframe tbody tr th {\n",
       "        vertical-align: top;\n",
       "    }\n",
       "\n",
       "    .dataframe thead th {\n",
       "        text-align: right;\n",
       "    }\n",
       "</style>\n",
       "<table border=\"1\" class=\"dataframe\">\n",
       "  <thead>\n",
       "    <tr style=\"text-align: right;\">\n",
       "      <th></th>\n",
       "      <th>fare_amount</th>\n",
       "      <th>distance</th>\n",
       "      <th>elapsed_sec</th>\n",
       "    </tr>\n",
       "  </thead>\n",
       "  <tbody>\n",
       "    <tr>\n",
       "      <th>count</th>\n",
       "      <td>15421.000000</td>\n",
       "      <td>15421.000000</td>\n",
       "      <td>15421.000000</td>\n",
       "    </tr>\n",
       "    <tr>\n",
       "      <th>mean</th>\n",
       "      <td>2.220140</td>\n",
       "      <td>1.141313</td>\n",
       "      <td>0.495212</td>\n",
       "    </tr>\n",
       "    <tr>\n",
       "      <th>std</th>\n",
       "      <td>0.389373</td>\n",
       "      <td>0.447178</td>\n",
       "      <td>0.286189</td>\n",
       "    </tr>\n",
       "    <tr>\n",
       "      <th>min</th>\n",
       "      <td>0.760806</td>\n",
       "      <td>0.000202</td>\n",
       "      <td>0.000000</td>\n",
       "    </tr>\n",
       "    <tr>\n",
       "      <th>25%</th>\n",
       "      <td>1.945910</td>\n",
       "      <td>0.805080</td>\n",
       "      <td>0.245734</td>\n",
       "    </tr>\n",
       "    <tr>\n",
       "      <th>50%</th>\n",
       "      <td>2.197225</td>\n",
       "      <td>1.106393</td>\n",
       "      <td>0.496025</td>\n",
       "    </tr>\n",
       "    <tr>\n",
       "      <th>75%</th>\n",
       "      <td>2.484907</td>\n",
       "      <td>1.451379</td>\n",
       "      <td>0.737164</td>\n",
       "    </tr>\n",
       "    <tr>\n",
       "      <th>max</th>\n",
       "      <td>3.139833</td>\n",
       "      <td>2.189309</td>\n",
       "      <td>1.000000</td>\n",
       "    </tr>\n",
       "  </tbody>\n",
       "</table>\n",
       "</div>"
      ],
      "text/plain": [
       "        fare_amount      distance   elapsed_sec\n",
       "count  15421.000000  15421.000000  15421.000000\n",
       "mean       2.220140      1.141313      0.495212\n",
       "std        0.389373      0.447178      0.286189\n",
       "min        0.760806      0.000202      0.000000\n",
       "25%        1.945910      0.805080      0.245734\n",
       "50%        2.197225      1.106393      0.496025\n",
       "75%        2.484907      1.451379      0.737164\n",
       "max        3.139833      2.189309      1.000000"
      ]
     },
     "execution_count": 2945,
     "metadata": {},
     "output_type": "execute_result"
    }
   ],
   "source": [
    "clean_train_df.describe()"
   ]
  },
  {
   "cell_type": "markdown",
   "metadata": {},
   "source": [
    "# Splitting data into train and test"
   ]
  },
  {
   "cell_type": "code",
   "execution_count": 2946,
   "metadata": {},
   "outputs": [],
   "source": [
    "clean_train, clean_test = train_test_split(clean_train_df, test_size=0.2)"
   ]
  },
  {
   "cell_type": "code",
   "execution_count": 2947,
   "metadata": {},
   "outputs": [
    {
     "data": {
      "text/html": [
       "<div>\n",
       "<style scoped>\n",
       "    .dataframe tbody tr th:only-of-type {\n",
       "        vertical-align: middle;\n",
       "    }\n",
       "\n",
       "    .dataframe tbody tr th {\n",
       "        vertical-align: top;\n",
       "    }\n",
       "\n",
       "    .dataframe thead th {\n",
       "        text-align: right;\n",
       "    }\n",
       "</style>\n",
       "<table border=\"1\" class=\"dataframe\">\n",
       "  <thead>\n",
       "    <tr style=\"text-align: right;\">\n",
       "      <th></th>\n",
       "      <th>fare_amount</th>\n",
       "      <th>passenger_count</th>\n",
       "      <th>distance</th>\n",
       "      <th>elapsed_sec</th>\n",
       "    </tr>\n",
       "  </thead>\n",
       "  <tbody>\n",
       "    <tr>\n",
       "      <th>2021</th>\n",
       "      <td>1.629241</td>\n",
       "      <td>1</td>\n",
       "      <td>0.561368</td>\n",
       "      <td>0.197660</td>\n",
       "    </tr>\n",
       "    <tr>\n",
       "      <th>10849</th>\n",
       "      <td>2.602690</td>\n",
       "      <td>1</td>\n",
       "      <td>1.763130</td>\n",
       "      <td>0.659324</td>\n",
       "    </tr>\n",
       "    <tr>\n",
       "      <th>2096</th>\n",
       "      <td>2.292535</td>\n",
       "      <td>1</td>\n",
       "      <td>1.521149</td>\n",
       "      <td>0.211563</td>\n",
       "    </tr>\n",
       "    <tr>\n",
       "      <th>8636</th>\n",
       "      <td>1.458615</td>\n",
       "      <td>1</td>\n",
       "      <td>0.417275</td>\n",
       "      <td>0.118242</td>\n",
       "    </tr>\n",
       "    <tr>\n",
       "      <th>12604</th>\n",
       "      <td>2.163323</td>\n",
       "      <td>1</td>\n",
       "      <td>1.285920</td>\n",
       "      <td>0.301639</td>\n",
       "    </tr>\n",
       "  </tbody>\n",
       "</table>\n",
       "</div>"
      ],
      "text/plain": [
       "       fare_amount passenger_count  distance  elapsed_sec\n",
       "2021      1.629241               1  0.561368     0.197660\n",
       "10849     2.602690               1  1.763130     0.659324\n",
       "2096      2.292535               1  1.521149     0.211563\n",
       "8636      1.458615               1  0.417275     0.118242\n",
       "12604     2.163323               1  1.285920     0.301639"
      ]
     },
     "execution_count": 2947,
     "metadata": {},
     "output_type": "execute_result"
    }
   ],
   "source": [
    "clean_train.head()"
   ]
  },
  {
   "cell_type": "code",
   "execution_count": 2948,
   "metadata": {},
   "outputs": [
    {
     "data": {
      "text/plain": [
       "(12336, 4)"
      ]
     },
     "execution_count": 2948,
     "metadata": {},
     "output_type": "execute_result"
    }
   ],
   "source": [
    "clean_train.shape"
   ]
  },
  {
   "cell_type": "code",
   "execution_count": 2949,
   "metadata": {},
   "outputs": [
    {
     "data": {
      "text/html": [
       "<div>\n",
       "<style scoped>\n",
       "    .dataframe tbody tr th:only-of-type {\n",
       "        vertical-align: middle;\n",
       "    }\n",
       "\n",
       "    .dataframe tbody tr th {\n",
       "        vertical-align: top;\n",
       "    }\n",
       "\n",
       "    .dataframe thead th {\n",
       "        text-align: right;\n",
       "    }\n",
       "</style>\n",
       "<table border=\"1\" class=\"dataframe\">\n",
       "  <thead>\n",
       "    <tr style=\"text-align: right;\">\n",
       "      <th></th>\n",
       "      <th>fare_amount</th>\n",
       "      <th>passenger_count</th>\n",
       "      <th>distance</th>\n",
       "      <th>elapsed_sec</th>\n",
       "    </tr>\n",
       "  </thead>\n",
       "  <tbody>\n",
       "    <tr>\n",
       "      <th>11135</th>\n",
       "      <td>3.104587</td>\n",
       "      <td>1</td>\n",
       "      <td>0.677372</td>\n",
       "      <td>0.512404</td>\n",
       "    </tr>\n",
       "    <tr>\n",
       "      <th>3833</th>\n",
       "      <td>1.840550</td>\n",
       "      <td>1</td>\n",
       "      <td>1.004427</td>\n",
       "      <td>0.527542</td>\n",
       "    </tr>\n",
       "    <tr>\n",
       "      <th>7042</th>\n",
       "      <td>2.014903</td>\n",
       "      <td>1</td>\n",
       "      <td>1.156459</td>\n",
       "      <td>0.075033</td>\n",
       "    </tr>\n",
       "    <tr>\n",
       "      <th>2962</th>\n",
       "      <td>2.208274</td>\n",
       "      <td>1</td>\n",
       "      <td>1.227251</td>\n",
       "      <td>0.481021</td>\n",
       "    </tr>\n",
       "    <tr>\n",
       "      <th>2136</th>\n",
       "      <td>2.116256</td>\n",
       "      <td>1</td>\n",
       "      <td>0.483426</td>\n",
       "      <td>0.285250</td>\n",
       "    </tr>\n",
       "  </tbody>\n",
       "</table>\n",
       "</div>"
      ],
      "text/plain": [
       "       fare_amount passenger_count  distance  elapsed_sec\n",
       "11135     3.104587               1  0.677372     0.512404\n",
       "3833      1.840550               1  1.004427     0.527542\n",
       "7042      2.014903               1  1.156459     0.075033\n",
       "2962      2.208274               1  1.227251     0.481021\n",
       "2136      2.116256               1  0.483426     0.285250"
      ]
     },
     "execution_count": 2949,
     "metadata": {},
     "output_type": "execute_result"
    }
   ],
   "source": [
    "clean_test.head()"
   ]
  },
  {
   "cell_type": "code",
   "execution_count": 2950,
   "metadata": {},
   "outputs": [
    {
     "data": {
      "text/plain": [
       "(3085, 4)"
      ]
     },
     "execution_count": 2950,
     "metadata": {},
     "output_type": "execute_result"
    }
   ],
   "source": [
    "clean_test.shape"
   ]
  },
  {
   "cell_type": "code",
   "execution_count": 2951,
   "metadata": {},
   "outputs": [
    {
     "name": "stdout",
     "output_type": "stream",
     "text": [
      "<class 'pandas.core.frame.DataFrame'>\n",
      "Int64Index: 12336 entries, 2021 to 4998\n",
      "Data columns (total 4 columns):\n",
      "fare_amount        12336 non-null float64\n",
      "passenger_count    12336 non-null category\n",
      "distance           12336 non-null float64\n",
      "elapsed_sec        12336 non-null float64\n",
      "dtypes: category(1), float64(3)\n",
      "memory usage: 397.8 KB\n"
     ]
    }
   ],
   "source": [
    "clean_train.info()"
   ]
  },
  {
   "cell_type": "code",
   "execution_count": 2952,
   "metadata": {},
   "outputs": [
    {
     "name": "stdout",
     "output_type": "stream",
     "text": [
      "<class 'pandas.core.frame.DataFrame'>\n",
      "Int64Index: 3085 entries, 11135 to 5860\n",
      "Data columns (total 4 columns):\n",
      "fare_amount        3085 non-null float64\n",
      "passenger_count    3085 non-null category\n",
      "distance           3085 non-null float64\n",
      "elapsed_sec        3085 non-null float64\n",
      "dtypes: category(1), float64(3)\n",
      "memory usage: 99.6 KB\n"
     ]
    }
   ],
   "source": [
    "clean_test.info()"
   ]
  },
  {
   "cell_type": "code",
   "execution_count": 2953,
   "metadata": {},
   "outputs": [],
   "source": [
    "train_feature_variables = clean_train.copy().drop(columns=['fare_amount'])\n",
    "train_target_variable = pd.DataFrame(clean_train['fare_amount'])\n",
    "\n",
    "test_feature_variables = clean_test.copy().drop(columns=['fare_amount'])\n",
    "test_target_variable = pd.DataFrame(clean_test['fare_amount'])"
   ]
  },
  {
   "cell_type": "code",
   "execution_count": 2954,
   "metadata": {},
   "outputs": [
    {
     "data": {
      "text/html": [
       "<div>\n",
       "<style scoped>\n",
       "    .dataframe tbody tr th:only-of-type {\n",
       "        vertical-align: middle;\n",
       "    }\n",
       "\n",
       "    .dataframe tbody tr th {\n",
       "        vertical-align: top;\n",
       "    }\n",
       "\n",
       "    .dataframe thead th {\n",
       "        text-align: right;\n",
       "    }\n",
       "</style>\n",
       "<table border=\"1\" class=\"dataframe\">\n",
       "  <thead>\n",
       "    <tr style=\"text-align: right;\">\n",
       "      <th></th>\n",
       "      <th>passenger_count</th>\n",
       "      <th>distance</th>\n",
       "      <th>elapsed_sec</th>\n",
       "    </tr>\n",
       "  </thead>\n",
       "  <tbody>\n",
       "    <tr>\n",
       "      <th>2021</th>\n",
       "      <td>1</td>\n",
       "      <td>0.561368</td>\n",
       "      <td>0.197660</td>\n",
       "    </tr>\n",
       "    <tr>\n",
       "      <th>10849</th>\n",
       "      <td>1</td>\n",
       "      <td>1.763130</td>\n",
       "      <td>0.659324</td>\n",
       "    </tr>\n",
       "    <tr>\n",
       "      <th>2096</th>\n",
       "      <td>1</td>\n",
       "      <td>1.521149</td>\n",
       "      <td>0.211563</td>\n",
       "    </tr>\n",
       "    <tr>\n",
       "      <th>8636</th>\n",
       "      <td>1</td>\n",
       "      <td>0.417275</td>\n",
       "      <td>0.118242</td>\n",
       "    </tr>\n",
       "    <tr>\n",
       "      <th>12604</th>\n",
       "      <td>1</td>\n",
       "      <td>1.285920</td>\n",
       "      <td>0.301639</td>\n",
       "    </tr>\n",
       "  </tbody>\n",
       "</table>\n",
       "</div>"
      ],
      "text/plain": [
       "      passenger_count  distance  elapsed_sec\n",
       "2021                1  0.561368     0.197660\n",
       "10849               1  1.763130     0.659324\n",
       "2096                1  1.521149     0.211563\n",
       "8636                1  0.417275     0.118242\n",
       "12604               1  1.285920     0.301639"
      ]
     },
     "execution_count": 2954,
     "metadata": {},
     "output_type": "execute_result"
    }
   ],
   "source": [
    "train_feature_variables.head()"
   ]
  },
  {
   "cell_type": "code",
   "execution_count": 2955,
   "metadata": {},
   "outputs": [
    {
     "data": {
      "text/html": [
       "<div>\n",
       "<style scoped>\n",
       "    .dataframe tbody tr th:only-of-type {\n",
       "        vertical-align: middle;\n",
       "    }\n",
       "\n",
       "    .dataframe tbody tr th {\n",
       "        vertical-align: top;\n",
       "    }\n",
       "\n",
       "    .dataframe thead th {\n",
       "        text-align: right;\n",
       "    }\n",
       "</style>\n",
       "<table border=\"1\" class=\"dataframe\">\n",
       "  <thead>\n",
       "    <tr style=\"text-align: right;\">\n",
       "      <th></th>\n",
       "      <th>passenger_count</th>\n",
       "      <th>distance</th>\n",
       "      <th>elapsed_sec</th>\n",
       "    </tr>\n",
       "  </thead>\n",
       "  <tbody>\n",
       "    <tr>\n",
       "      <th>11135</th>\n",
       "      <td>1</td>\n",
       "      <td>0.677372</td>\n",
       "      <td>0.512404</td>\n",
       "    </tr>\n",
       "    <tr>\n",
       "      <th>3833</th>\n",
       "      <td>1</td>\n",
       "      <td>1.004427</td>\n",
       "      <td>0.527542</td>\n",
       "    </tr>\n",
       "    <tr>\n",
       "      <th>7042</th>\n",
       "      <td>1</td>\n",
       "      <td>1.156459</td>\n",
       "      <td>0.075033</td>\n",
       "    </tr>\n",
       "    <tr>\n",
       "      <th>2962</th>\n",
       "      <td>1</td>\n",
       "      <td>1.227251</td>\n",
       "      <td>0.481021</td>\n",
       "    </tr>\n",
       "    <tr>\n",
       "      <th>2136</th>\n",
       "      <td>1</td>\n",
       "      <td>0.483426</td>\n",
       "      <td>0.285250</td>\n",
       "    </tr>\n",
       "  </tbody>\n",
       "</table>\n",
       "</div>"
      ],
      "text/plain": [
       "      passenger_count  distance  elapsed_sec\n",
       "11135               1  0.677372     0.512404\n",
       "3833                1  1.004427     0.527542\n",
       "7042                1  1.156459     0.075033\n",
       "2962                1  1.227251     0.481021\n",
       "2136                1  0.483426     0.285250"
      ]
     },
     "execution_count": 2955,
     "metadata": {},
     "output_type": "execute_result"
    }
   ],
   "source": [
    "test_feature_variables.head()"
   ]
  },
  {
   "cell_type": "code",
   "execution_count": 2956,
   "metadata": {},
   "outputs": [
    {
     "data": {
      "text/html": [
       "<div>\n",
       "<style scoped>\n",
       "    .dataframe tbody tr th:only-of-type {\n",
       "        vertical-align: middle;\n",
       "    }\n",
       "\n",
       "    .dataframe tbody tr th {\n",
       "        vertical-align: top;\n",
       "    }\n",
       "\n",
       "    .dataframe thead th {\n",
       "        text-align: right;\n",
       "    }\n",
       "</style>\n",
       "<table border=\"1\" class=\"dataframe\">\n",
       "  <thead>\n",
       "    <tr style=\"text-align: right;\">\n",
       "      <th></th>\n",
       "      <th>fare_amount</th>\n",
       "    </tr>\n",
       "  </thead>\n",
       "  <tbody>\n",
       "    <tr>\n",
       "      <th>2021</th>\n",
       "      <td>1.629241</td>\n",
       "    </tr>\n",
       "    <tr>\n",
       "      <th>10849</th>\n",
       "      <td>2.602690</td>\n",
       "    </tr>\n",
       "    <tr>\n",
       "      <th>2096</th>\n",
       "      <td>2.292535</td>\n",
       "    </tr>\n",
       "    <tr>\n",
       "      <th>8636</th>\n",
       "      <td>1.458615</td>\n",
       "    </tr>\n",
       "    <tr>\n",
       "      <th>12604</th>\n",
       "      <td>2.163323</td>\n",
       "    </tr>\n",
       "  </tbody>\n",
       "</table>\n",
       "</div>"
      ],
      "text/plain": [
       "       fare_amount\n",
       "2021      1.629241\n",
       "10849     2.602690\n",
       "2096      2.292535\n",
       "8636      1.458615\n",
       "12604     2.163323"
      ]
     },
     "execution_count": 2956,
     "metadata": {},
     "output_type": "execute_result"
    }
   ],
   "source": [
    "train_target_variable.head()"
   ]
  },
  {
   "cell_type": "code",
   "execution_count": 2957,
   "metadata": {},
   "outputs": [
    {
     "data": {
      "text/html": [
       "<div>\n",
       "<style scoped>\n",
       "    .dataframe tbody tr th:only-of-type {\n",
       "        vertical-align: middle;\n",
       "    }\n",
       "\n",
       "    .dataframe tbody tr th {\n",
       "        vertical-align: top;\n",
       "    }\n",
       "\n",
       "    .dataframe thead th {\n",
       "        text-align: right;\n",
       "    }\n",
       "</style>\n",
       "<table border=\"1\" class=\"dataframe\">\n",
       "  <thead>\n",
       "    <tr style=\"text-align: right;\">\n",
       "      <th></th>\n",
       "      <th>fare_amount</th>\n",
       "    </tr>\n",
       "  </thead>\n",
       "  <tbody>\n",
       "    <tr>\n",
       "      <th>11135</th>\n",
       "      <td>3.104587</td>\n",
       "    </tr>\n",
       "    <tr>\n",
       "      <th>3833</th>\n",
       "      <td>1.840550</td>\n",
       "    </tr>\n",
       "    <tr>\n",
       "      <th>7042</th>\n",
       "      <td>2.014903</td>\n",
       "    </tr>\n",
       "    <tr>\n",
       "      <th>2962</th>\n",
       "      <td>2.208274</td>\n",
       "    </tr>\n",
       "    <tr>\n",
       "      <th>2136</th>\n",
       "      <td>2.116256</td>\n",
       "    </tr>\n",
       "  </tbody>\n",
       "</table>\n",
       "</div>"
      ],
      "text/plain": [
       "       fare_amount\n",
       "11135     3.104587\n",
       "3833      1.840550\n",
       "7042      2.014903\n",
       "2962      2.208274\n",
       "2136      2.116256"
      ]
     },
     "execution_count": 2957,
     "metadata": {},
     "output_type": "execute_result"
    }
   ],
   "source": [
    "test_target_variable.head()"
   ]
  },
  {
   "cell_type": "markdown",
   "metadata": {},
   "source": [
    "# Model Development"
   ]
  },
  {
   "cell_type": "code",
   "execution_count": 2958,
   "metadata": {},
   "outputs": [],
   "source": [
    "def mean_absolute_percentage_error(y_true, y_pred): \n",
    "    return np.mean(np.abs((y_true - y_pred) / y_true)) * 100"
   ]
  },
  {
   "cell_type": "markdown",
   "metadata": {},
   "source": [
    "### Linear Regression"
   ]
  },
  {
   "cell_type": "code",
   "execution_count": 2959,
   "metadata": {},
   "outputs": [],
   "source": [
    "#Building Linear Regression model\n",
    "LR_model = LinearRegression().fit(train_feature_variables, train_target_variables)"
   ]
  },
  {
   "cell_type": "code",
   "execution_count": 2960,
   "metadata": {},
   "outputs": [],
   "source": [
    "prediction = LR_model.predict(test_feature_variables)"
   ]
  },
  {
   "cell_type": "code",
   "execution_count": 2961,
   "metadata": {},
   "outputs": [
    {
     "name": "stdout",
     "output_type": "stream",
     "text": [
      "R2 Score: 0.0048132984386068944\n",
      "Mean Absolute Error: 0.3196589020711661\n",
      "Mean Squared Error: 0.15106700376826834\n",
      "Root Mean Squared Error: 0.38867338958085146\n",
      "MAPE: fare_amount    14.899055\n",
      "dtype: float64\n",
      "Accuracy: fare_amount    85.100945\n",
      "dtype: float64\n"
     ]
    }
   ],
   "source": [
    "#calculate Error metrics on test data\n",
    "print(\"R2 Score:\",r2_score(test_target_variable,prediction))\n",
    "print(\"Mean Absolute Error:\",mean_absolute_error(test_target_variable,prediction))\n",
    "print(\"Mean Squared Error:\",mean_squared_error(test_target_variable,prediction))\n",
    "print(\"Root Mean Squared Error:\",np.sqrt(mean_squared_error(test_target_variable,prediction)))\n",
    "print(\"MAPE:\",mean_absolute_percentage_error(test_target_variable,prediction))\n",
    "print(\"Accuracy:\",(100 - mean_absolute_percentage_error(test_target_variable,prediction)))"
   ]
  },
  {
   "cell_type": "code",
   "execution_count": 2962,
   "metadata": {},
   "outputs": [
    {
     "name": "stdout",
     "output_type": "stream",
     "text": [
      "R2 Score: 0.0049235739704570625\n",
      "Mean Absolute Error: 0.31823981055871803\n",
      "Mean Squared Error: 0.15080499696001293\n",
      "Root Mean Squared Error: 0.3883361906390041\n",
      "MAPE: fare_amount    14.945792\n",
      "dtype: float64\n",
      "Accuracy: fare_amount    85.054208\n",
      "dtype: float64\n"
     ]
    }
   ],
   "source": [
    "#calculate error metrics on training data\n",
    "pred = LR_model.predict(train_feature_variables)\n",
    "print(\"R2 Score:\",r2_score(train_target_variable,pred))\n",
    "print(\"Mean Absolute Error:\",mean_absolute_error(train_target_variable,pred))\n",
    "print(\"Mean Squared Error:\",mean_squared_error(train_target_variable,pred))\n",
    "print(\"Root Mean Squared Error:\",np.sqrt(mean_squared_error(train_target_variable,pred)))\n",
    "print(\"MAPE:\",mean_absolute_percentage_error(train_target_variable,pred))\n",
    "print(\"Accuracy:\",(100 - mean_absolute_percentage_error(train_target_variable,pred)))"
   ]
  },
  {
   "cell_type": "markdown",
   "metadata": {},
   "source": [
    "### Decision Tree Model"
   ]
  },
  {
   "cell_type": "code",
   "execution_count": 2963,
   "metadata": {},
   "outputs": [],
   "source": [
    "DT_model = DecisionTreeRegressor(max_depth=2).fit(train_feature_variables,train_target_variable)"
   ]
  },
  {
   "cell_type": "code",
   "execution_count": 2964,
   "metadata": {},
   "outputs": [],
   "source": [
    "prediction = DT_model.predict(test_feature_variables)"
   ]
  },
  {
   "cell_type": "code",
   "execution_count": 2965,
   "metadata": {},
   "outputs": [],
   "source": [
    "prediction = prediction.reshape((3085,1))"
   ]
  },
  {
   "cell_type": "code",
   "execution_count": 2966,
   "metadata": {},
   "outputs": [
    {
     "name": "stdout",
     "output_type": "stream",
     "text": [
      "R2 Score: 0.56502904032977\n",
      "Mean Absolute Error: 0.19290872262939546\n",
      "Mean Squared Error: 0.06602757000319132\n",
      "Root Mean Squared Error: 0.25695830401680214\n",
      "MAPE: fare_amount    8.780484\n",
      "dtype: float64\n",
      "Accuracy: fare_amount    91.219516\n",
      "dtype: float64\n"
     ]
    }
   ],
   "source": [
    "#calculate Error metrics on test data\n",
    "print(\"R2 Score:\",r2_score(test_target_variable,prediction))\n",
    "print(\"Mean Absolute Error:\",mean_absolute_error(test_target_variable,prediction))\n",
    "print(\"Mean Squared Error:\",mean_squared_error(test_target_variable,prediction))\n",
    "print(\"Root Mean Squared Error:\",np.sqrt(mean_squared_error(test_target_variable,prediction)))\n",
    "print(\"MAPE:\",mean_absolute_percentage_error(test_target_variable,prediction))\n",
    "print(\"Accuracy:\",(100 - mean_absolute_percentage_error(test_target_variable,prediction)))"
   ]
  },
  {
   "cell_type": "code",
   "execution_count": 2967,
   "metadata": {},
   "outputs": [
    {
     "name": "stdout",
     "output_type": "stream",
     "text": [
      "R2 Score: 0.5715380454854317\n",
      "Mean Absolute Error: 0.19210413482091365\n",
      "Mean Squared Error: 0.0649339106603781\n",
      "Root Mean Squared Error: 0.25482133085826647\n",
      "MAPE: fare_amount    8.808789\n",
      "dtype: float64\n",
      "Accuracy: fare_amount    91.191211\n",
      "dtype: float64\n"
     ]
    }
   ],
   "source": [
    "#calculate error metrics on training data\n",
    "pred = DT_model.predict(train_feature_variables)\n",
    "pred = pred.reshape((12336,1))\n",
    "print(\"R2 Score:\",r2_score(train_target_variable,pred))\n",
    "print(\"Mean Absolute Error:\",mean_absolute_error(train_target_variable,pred))\n",
    "print(\"Mean Squared Error:\",mean_squared_error(train_target_variable,pred))\n",
    "print(\"Root Mean Squared Error:\",np.sqrt(mean_squared_error(train_target_variable,pred)))\n",
    "print(\"MAPE:\",mean_absolute_percentage_error(train_target_variable,pred))\n",
    "print(\"Accuracy:\",(100 - mean_absolute_percentage_error(train_target_variable,pred)))"
   ]
  },
  {
   "cell_type": "markdown",
   "metadata": {},
   "source": [
    "### Random Forest"
   ]
  },
  {
   "cell_type": "code",
   "execution_count": 2968,
   "metadata": {},
   "outputs": [],
   "source": [
    "RF_model = RandomForestRegressor(n_estimators = 200).fit(train_feature_variables,train_target_variable.values.ravel())\n"
   ]
  },
  {
   "cell_type": "code",
   "execution_count": 2969,
   "metadata": {},
   "outputs": [],
   "source": [
    "prediction = RF_model.predict(test_feature_variables)"
   ]
  },
  {
   "cell_type": "code",
   "execution_count": 2970,
   "metadata": {},
   "outputs": [],
   "source": [
    "prediction = prediction.reshape((3085,1))"
   ]
  },
  {
   "cell_type": "code",
   "execution_count": 2971,
   "metadata": {},
   "outputs": [
    {
     "name": "stdout",
     "output_type": "stream",
     "text": [
      "R2 Score: 0.5965764851516375\n",
      "Mean Absolute Error: 0.18113399117552217\n",
      "Mean Squared Error: 0.06123874197895518\n",
      "Root Mean Squared Error: 0.24746462773284422\n",
      "MAPE: fare_amount    8.272189\n",
      "dtype: float64\n",
      "Accuracy: fare_amount    91.727811\n",
      "dtype: float64\n"
     ]
    }
   ],
   "source": [
    "#calculate Error metrics on test data\n",
    "print(\"R2 Score:\",r2_score(test_target_variable,prediction))\n",
    "print(\"Mean Absolute Error:\",mean_absolute_error(test_target_variable,prediction))\n",
    "print(\"Mean Squared Error:\",mean_squared_error(test_target_variable,prediction))\n",
    "print(\"Root Mean Squared Error:\",np.sqrt(mean_squared_error(test_target_variable,prediction)))\n",
    "print(\"MAPE:\",mean_absolute_percentage_error(test_target_variable,prediction))\n",
    "print(\"Accuracy:\",(100 - mean_absolute_percentage_error(test_target_variable,prediction)))"
   ]
  },
  {
   "cell_type": "code",
   "execution_count": 2972,
   "metadata": {},
   "outputs": [
    {
     "name": "stdout",
     "output_type": "stream",
     "text": [
      "R2 Score: 0.94372054998546\n",
      "Mean Absolute Error: 0.06661349278136668\n",
      "Mean Squared Error: 0.008529216516784349\n",
      "Root Mean Squared Error: 0.09235375745893801\n",
      "MAPE: fare_amount    3.058588\n",
      "dtype: float64\n",
      "Accuracy: fare_amount    96.941412\n",
      "dtype: float64\n"
     ]
    }
   ],
   "source": [
    "#calculate error metrics on training data\n",
    "pred = RF_model.predict(train_feature_variables)\n",
    "pred = pred.reshape((12336,1))\n",
    "print(\"R2 Score:\",r2_score(train_target_variable,pred))\n",
    "print(\"Mean Absolute Error:\",mean_absolute_error(train_target_variable,pred))\n",
    "print(\"Mean Squared Error:\",mean_squared_error(train_target_variable,pred))\n",
    "print(\"Root Mean Squared Error:\",np.sqrt(mean_squared_error(train_target_variable,pred)))\n",
    "print(\"MAPE:\",mean_absolute_percentage_error(train_target_variable,pred))\n",
    "print(\"Accuracy:\",(100 - mean_absolute_percentage_error(train_target_variable,pred)))"
   ]
  },
  {
   "cell_type": "markdown",
   "metadata": {},
   "source": [
    "### XGBoost"
   ]
  },
  {
   "cell_type": "code",
   "execution_count": 2973,
   "metadata": {},
   "outputs": [
    {
     "data": {
      "text/html": [
       "<div>\n",
       "<style scoped>\n",
       "    .dataframe tbody tr th:only-of-type {\n",
       "        vertical-align: middle;\n",
       "    }\n",
       "\n",
       "    .dataframe tbody tr th {\n",
       "        vertical-align: top;\n",
       "    }\n",
       "\n",
       "    .dataframe thead th {\n",
       "        text-align: right;\n",
       "    }\n",
       "</style>\n",
       "<table border=\"1\" class=\"dataframe\">\n",
       "  <thead>\n",
       "    <tr style=\"text-align: right;\">\n",
       "      <th></th>\n",
       "      <th>fare_amount</th>\n",
       "      <th>passenger_count</th>\n",
       "      <th>distance</th>\n",
       "      <th>elapsed_sec</th>\n",
       "    </tr>\n",
       "  </thead>\n",
       "  <tbody>\n",
       "    <tr>\n",
       "      <th>0</th>\n",
       "      <td>1.704748</td>\n",
       "      <td>1</td>\n",
       "      <td>0.708412</td>\n",
       "      <td>0.069844</td>\n",
       "    </tr>\n",
       "    <tr>\n",
       "      <th>1</th>\n",
       "      <td>2.884801</td>\n",
       "      <td>1</td>\n",
       "      <td>1.880662</td>\n",
       "      <td>0.155842</td>\n",
       "    </tr>\n",
       "    <tr>\n",
       "      <th>2</th>\n",
       "      <td>1.902108</td>\n",
       "      <td>2</td>\n",
       "      <td>0.871095</td>\n",
       "      <td>0.404304</td>\n",
       "    </tr>\n",
       "    <tr>\n",
       "      <th>3</th>\n",
       "      <td>2.163323</td>\n",
       "      <td>1</td>\n",
       "      <td>1.334809</td>\n",
       "      <td>0.508509</td>\n",
       "    </tr>\n",
       "    <tr>\n",
       "      <th>4</th>\n",
       "      <td>1.840550</td>\n",
       "      <td>1</td>\n",
       "      <td>1.098331</td>\n",
       "      <td>0.182245</td>\n",
       "    </tr>\n",
       "  </tbody>\n",
       "</table>\n",
       "</div>"
      ],
      "text/plain": [
       "   fare_amount passenger_count  distance  elapsed_sec\n",
       "0     1.704748               1  0.708412     0.069844\n",
       "1     2.884801               1  1.880662     0.155842\n",
       "2     1.902108               2  0.871095     0.404304\n",
       "3     2.163323               1  1.334809     0.508509\n",
       "4     1.840550               1  1.098331     0.182245"
      ]
     },
     "execution_count": 2973,
     "metadata": {},
     "output_type": "execute_result"
    }
   ],
   "source": [
    "clean_train_df.head()"
   ]
  },
  {
   "cell_type": "code",
   "execution_count": 2974,
   "metadata": {},
   "outputs": [],
   "source": [
    "X = clean_train_df.drop(columns=['fare_amount'])\n",
    "y = clean_train_df['fare_amount'].values\n",
    "X['passenger_count'] = X['passenger_count'].astype('int64')\n",
    "train_feature_variables.passenger_count = train_feature_variables.astype('int64')\n",
    "test_feature_variables.passenger_count = test_feature_variables.astype('int64')"
   ]
  },
  {
   "cell_type": "code",
   "execution_count": 2975,
   "metadata": {},
   "outputs": [
    {
     "data": {
      "text/html": [
       "<div>\n",
       "<style scoped>\n",
       "    .dataframe tbody tr th:only-of-type {\n",
       "        vertical-align: middle;\n",
       "    }\n",
       "\n",
       "    .dataframe tbody tr th {\n",
       "        vertical-align: top;\n",
       "    }\n",
       "\n",
       "    .dataframe thead th {\n",
       "        text-align: right;\n",
       "    }\n",
       "</style>\n",
       "<table border=\"1\" class=\"dataframe\">\n",
       "  <thead>\n",
       "    <tr style=\"text-align: right;\">\n",
       "      <th></th>\n",
       "      <th>passenger_count</th>\n",
       "      <th>distance</th>\n",
       "      <th>elapsed_sec</th>\n",
       "    </tr>\n",
       "  </thead>\n",
       "  <tbody>\n",
       "    <tr>\n",
       "      <th>0</th>\n",
       "      <td>1</td>\n",
       "      <td>0.708412</td>\n",
       "      <td>0.069844</td>\n",
       "    </tr>\n",
       "    <tr>\n",
       "      <th>1</th>\n",
       "      <td>1</td>\n",
       "      <td>1.880662</td>\n",
       "      <td>0.155842</td>\n",
       "    </tr>\n",
       "    <tr>\n",
       "      <th>2</th>\n",
       "      <td>2</td>\n",
       "      <td>0.871095</td>\n",
       "      <td>0.404304</td>\n",
       "    </tr>\n",
       "    <tr>\n",
       "      <th>3</th>\n",
       "      <td>1</td>\n",
       "      <td>1.334809</td>\n",
       "      <td>0.508509</td>\n",
       "    </tr>\n",
       "    <tr>\n",
       "      <th>4</th>\n",
       "      <td>1</td>\n",
       "      <td>1.098331</td>\n",
       "      <td>0.182245</td>\n",
       "    </tr>\n",
       "  </tbody>\n",
       "</table>\n",
       "</div>"
      ],
      "text/plain": [
       "   passenger_count  distance  elapsed_sec\n",
       "0                1  0.708412     0.069844\n",
       "1                1  1.880662     0.155842\n",
       "2                2  0.871095     0.404304\n",
       "3                1  1.334809     0.508509\n",
       "4                1  1.098331     0.182245"
      ]
     },
     "execution_count": 2975,
     "metadata": {},
     "output_type": "execute_result"
    }
   ],
   "source": [
    "X.head()"
   ]
  },
  {
   "cell_type": "code",
   "execution_count": 2976,
   "metadata": {},
   "outputs": [
    {
     "data": {
      "text/plain": [
       "array([1.70474809, 2.88480071, 1.90210753, ..., 2.83907846, 2.2512918 ,\n",
       "       2.20827441])"
      ]
     },
     "execution_count": 2976,
     "metadata": {},
     "output_type": "execute_result"
    }
   ],
   "source": [
    "y"
   ]
  },
  {
   "cell_type": "code",
   "execution_count": 2977,
   "metadata": {},
   "outputs": [],
   "source": [
    "data_dmatrix = xgb.DMatrix(data=X,label=y)\n",
    "dtrain = xgb.DMatrix(train_feature_variables, label=train_target_variable)\n",
    "dtest = xgb.DMatrix(test_feature_variables)"
   ]
  },
  {
   "cell_type": "code",
   "execution_count": 2978,
   "metadata": {},
   "outputs": [
    {
     "name": "stdout",
     "output_type": "stream",
     "text": [
      "[10:57:39] WARNING: C:/Users/Administrator/workspace/xgboost-win64_release_1.0.0/src/objective/regression_obj.cu:167: reg:linear is now deprecated in favor of reg:squarederror.\n",
      "[10:57:39] WARNING: C:/Users/Administrator/workspace/xgboost-win64_release_1.0.0/src/objective/regression_obj.cu:167: reg:linear is now deprecated in favor of reg:squarederror.\n",
      "[10:57:39] WARNING: C:/Users/Administrator/workspace/xgboost-win64_release_1.0.0/src/objective/regression_obj.cu:167: reg:linear is now deprecated in favor of reg:squarederror.\n",
      "[10:57:39] WARNING: C:/Users/Administrator/workspace/xgboost-win64_release_1.0.0/src/objective/regression_obj.cu:167: reg:linear is now deprecated in favor of reg:squarederror.\n",
      "[10:57:39] WARNING: C:/Users/Administrator/workspace/xgboost-win64_release_1.0.0/src/objective/regression_obj.cu:167: reg:linear is now deprecated in favor of reg:squarederror.\n"
     ]
    },
    {
     "data": {
      "text/html": [
       "<div>\n",
       "<style scoped>\n",
       "    .dataframe tbody tr th:only-of-type {\n",
       "        vertical-align: middle;\n",
       "    }\n",
       "\n",
       "    .dataframe tbody tr th {\n",
       "        vertical-align: top;\n",
       "    }\n",
       "\n",
       "    .dataframe thead th {\n",
       "        text-align: right;\n",
       "    }\n",
       "</style>\n",
       "<table border=\"1\" class=\"dataframe\">\n",
       "  <thead>\n",
       "    <tr style=\"text-align: right;\">\n",
       "      <th></th>\n",
       "      <th>train-rmse-mean</th>\n",
       "      <th>train-rmse-std</th>\n",
       "      <th>test-rmse-mean</th>\n",
       "      <th>test-rmse-std</th>\n",
       "    </tr>\n",
       "  </thead>\n",
       "  <tbody>\n",
       "    <tr>\n",
       "      <th>0</th>\n",
       "      <td>1.596429</td>\n",
       "      <td>0.001350</td>\n",
       "      <td>1.596420</td>\n",
       "      <td>0.006158</td>\n",
       "    </tr>\n",
       "    <tr>\n",
       "      <th>1</th>\n",
       "      <td>1.445695</td>\n",
       "      <td>0.001751</td>\n",
       "      <td>1.445848</td>\n",
       "      <td>0.007403</td>\n",
       "    </tr>\n",
       "    <tr>\n",
       "      <th>2</th>\n",
       "      <td>1.309702</td>\n",
       "      <td>0.003670</td>\n",
       "      <td>1.309994</td>\n",
       "      <td>0.009272</td>\n",
       "    </tr>\n",
       "    <tr>\n",
       "      <th>3</th>\n",
       "      <td>1.188753</td>\n",
       "      <td>0.003617</td>\n",
       "      <td>1.188992</td>\n",
       "      <td>0.010216</td>\n",
       "    </tr>\n",
       "    <tr>\n",
       "      <th>4</th>\n",
       "      <td>1.079354</td>\n",
       "      <td>0.004202</td>\n",
       "      <td>1.079628</td>\n",
       "      <td>0.010355</td>\n",
       "    </tr>\n",
       "  </tbody>\n",
       "</table>\n",
       "</div>"
      ],
      "text/plain": [
       "   train-rmse-mean  train-rmse-std  test-rmse-mean  test-rmse-std\n",
       "0         1.596429        0.001350        1.596420       0.006158\n",
       "1         1.445695        0.001751        1.445848       0.007403\n",
       "2         1.309702        0.003670        1.309994       0.009272\n",
       "3         1.188753        0.003617        1.188992       0.010216\n",
       "4         1.079354        0.004202        1.079628       0.010355"
      ]
     },
     "execution_count": 2978,
     "metadata": {},
     "output_type": "execute_result"
    }
   ],
   "source": [
    "params = {\"objective\":\"reg:linear\",'colsample_bytree': 0.3,'learning_rate': 0.1,\n",
    "                'max_depth': 5, 'alpha': 10}\n",
    "\n",
    "cv_results = xgb.cv(dtrain=data_dmatrix, params=params, nfold=5,\n",
    "                    num_boost_round=50,early_stopping_rounds=10,metrics=\"rmse\", as_pandas=True, seed=123)\n",
    "cv_results.head()"
   ]
  },
  {
   "cell_type": "code",
   "execution_count": 2979,
   "metadata": {},
   "outputs": [
    {
     "name": "stdout",
     "output_type": "stream",
     "text": [
      "49    0.245042\n",
      "Name: test-rmse-mean, dtype: float64\n"
     ]
    }
   ],
   "source": [
    "# the final boosting round metric\n",
    "print((cv_results[\"test-rmse-mean\"]).tail(1))"
   ]
  },
  {
   "cell_type": "code",
   "execution_count": 2980,
   "metadata": {},
   "outputs": [
    {
     "data": {
      "text/plain": [
       "XGBRegressor(base_score=0.5, booster=None, colsample_bylevel=1,\n",
       "             colsample_bynode=1, colsample_bytree=1, gamma=0, gpu_id=-1,\n",
       "             importance_type='gain', interaction_constraints=None,\n",
       "             learning_rate=0.300000012, max_delta_step=0, max_depth=6,\n",
       "             min_child_weight=1, missing=nan, monotone_constraints=None,\n",
       "             n_estimators=100, n_jobs=0, num_parallel_tree=1,\n",
       "             objective='reg:squarederror', random_state=0, reg_alpha=0,\n",
       "             reg_lambda=1, scale_pos_weight=1, subsample=1, tree_method=None,\n",
       "             validate_parameters=False, verbosity=None)"
      ]
     },
     "execution_count": 2980,
     "metadata": {},
     "output_type": "execute_result"
    }
   ],
   "source": [
    "Xgb = XGBRegressor()\n",
    "Xgb.fit(train_feature_variables,train_target_variables)"
   ]
  },
  {
   "cell_type": "code",
   "execution_count": 2981,
   "metadata": {},
   "outputs": [],
   "source": [
    "prediction = Xgb.predict(test_feature_variables)"
   ]
  },
  {
   "cell_type": "code",
   "execution_count": 2982,
   "metadata": {},
   "outputs": [],
   "source": [
    "prediction = prediction.reshape((3085,1))"
   ]
  },
  {
   "cell_type": "code",
   "execution_count": 2983,
   "metadata": {},
   "outputs": [
    {
     "name": "stdout",
     "output_type": "stream",
     "text": [
      "R2 Score: -0.04793815632280518\n",
      "Mean Absolute Error: 0.32567495939846985\n",
      "Mean Squared Error: 0.15907455069661952\n",
      "Root Mean Squared Error: 0.3988415107490938\n",
      "MAPE: fare_amount    15.148469\n",
      "dtype: float64\n",
      "Accuracy: fare_amount    84.851531\n",
      "dtype: float64\n"
     ]
    }
   ],
   "source": [
    "#calculate Error metrics on test data\n",
    "print(\"R2 Score:\",r2_score(test_target_variable,prediction))\n",
    "print(\"Mean Absolute Error:\",mean_absolute_error(test_target_variable,prediction))\n",
    "print(\"Mean Squared Error:\",mean_squared_error(test_target_variable,prediction))\n",
    "print(\"Root Mean Squared Error:\",np.sqrt(mean_squared_error(test_target_variable,prediction)))\n",
    "print(\"MAPE:\",mean_absolute_percentage_error(test_target_variable,prediction))\n",
    "print(\"Accuracy:\",(100 - mean_absolute_percentage_error(test_target_variable,prediction)))"
   ]
  },
  {
   "cell_type": "code",
   "execution_count": 2984,
   "metadata": {},
   "outputs": [
    {
     "name": "stdout",
     "output_type": "stream",
     "text": [
      "R2 Score: -0.0808877572062261\n",
      "Mean Absolute Error: 0.32752024573672067\n",
      "Mean Squared Error: 0.16380980462978098\n",
      "Root Mean Squared Error: 0.4047342395075823\n",
      "MAPE: fare_amount    15.366815\n",
      "dtype: float64\n",
      "Accuracy: fare_amount    84.633185\n",
      "dtype: float64\n"
     ]
    }
   ],
   "source": [
    "#calculate error metrics on training data\n",
    "pred = Xgb.predict(train_feature_variables)\n",
    "pred = pred.reshape((12336,1))\n",
    "print(\"R2 Score:\",r2_score(train_target_variable,pred))\n",
    "print(\"Mean Absolute Error:\",mean_absolute_error(train_target_variable,pred))\n",
    "print(\"Mean Squared Error:\",mean_squared_error(train_target_variable,pred))\n",
    "print(\"Root Mean Squared Error:\",np.sqrt(mean_squared_error(train_target_variable,pred)))\n",
    "print(\"MAPE:\",mean_absolute_percentage_error(train_target_variable,pred))\n",
    "print(\"Accuracy:\",(100 - mean_absolute_percentage_error(train_target_variable,pred)))"
   ]
  },
  {
   "cell_type": "code",
   "execution_count": 2985,
   "metadata": {},
   "outputs": [
    {
     "name": "stdout",
     "output_type": "stream",
     "text": [
      "Tuned Xgboost Parameters: {'subsample': 0.30000000000000004, 'reg_alpha': 0.013257113655901081, 'n_estimators': 300, 'max_depth': 3, 'learning_rate': 0.1, 'colsample_bytree': 0.5000000000000001, 'colsample_bynode': 0.5000000000000001, 'colsample_bylevel': 0.1}\n",
      "Best score is 0.6299374738481539\n"
     ]
    }
   ],
   "source": [
    "# Create the random grid\n",
    "para = {'n_estimators': range(100,500,100),\n",
    "               'max_depth': range(3,10,1),\n",
    "        'reg_alpha':np.logspace(-4, 0, 50),\n",
    "        'subsample': np.arange(0.1,1,0.2),\n",
    "        'colsample_bytree': np.arange(0.1,1,0.2),\n",
    "        'colsample_bylevel': np.arange(0.1,1,0.2),\n",
    "        'colsample_bynode': np.arange(0.1,1,0.2),\n",
    "       'learning_rate': np.arange(.05, 1, .05)}\n",
    "# Instantiate a Decision Forest classifier: Forest\n",
    "Xgb = XGBRegressor()\n",
    "\n",
    "# Instantiate the gridSearchCV object: Forest_cv\n",
    "xgb_cv = RandomizedSearchCV(Xgb, para, cv=5)\n",
    "\n",
    "xgb_cv.fit(X,y)\n",
    "print(\"Tuned Xgboost Parameters: {}\".format(xgb_cv.best_params_))\n",
    "print(\"Best score is {}\".format(xgb_cv.best_score_))"
   ]
  },
  {
   "cell_type": "code",
   "execution_count": 2986,
   "metadata": {},
   "outputs": [],
   "source": [
    "Xgb = XGBRegressor(subsample=0.30000000000000004,reg_alpha=0.013257113655901081,n_estimators=300,max_depth=3,learning_rate=0.1,colsample_bytree=0.5000000000000001,colsample_bynode=0.5000000000000001,colsample_bylevel=0.1)"
   ]
  },
  {
   "cell_type": "code",
   "execution_count": 2987,
   "metadata": {},
   "outputs": [
    {
     "data": {
      "text/plain": [
       "XGBRegressor(base_score=0.5, booster=None, colsample_bylevel=0.1,\n",
       "             colsample_bynode=0.5000000000000001,\n",
       "             colsample_bytree=0.5000000000000001, gamma=0, gpu_id=-1,\n",
       "             importance_type='gain', interaction_constraints=None,\n",
       "             learning_rate=0.1, max_delta_step=0, max_depth=3,\n",
       "             min_child_weight=1, missing=nan, monotone_constraints=None,\n",
       "             n_estimators=300, n_jobs=0, num_parallel_tree=1,\n",
       "             objective='reg:squarederror', random_state=0,\n",
       "             reg_alpha=0.013257113655901081, reg_lambda=1, scale_pos_weight=1,\n",
       "             subsample=0.30000000000000004, tree_method=None,\n",
       "             validate_parameters=False, verbosity=None)"
      ]
     },
     "execution_count": 2987,
     "metadata": {},
     "output_type": "execute_result"
    }
   ],
   "source": [
    "# Fit the regressor to the data\n",
    "Xgb.fit(train_feature_variables,train_target_variable)"
   ]
  },
  {
   "cell_type": "code",
   "execution_count": 2988,
   "metadata": {},
   "outputs": [],
   "source": [
    "prediction = Xgb.predict(test_feature_variables)"
   ]
  },
  {
   "cell_type": "code",
   "execution_count": 2989,
   "metadata": {},
   "outputs": [],
   "source": [
    "prediction = prediction.reshape((3085,1))"
   ]
  },
  {
   "cell_type": "code",
   "execution_count": 2990,
   "metadata": {},
   "outputs": [
    {
     "name": "stdout",
     "output_type": "stream",
     "text": [
      "R2 Score: 0.6405187604035649\n",
      "Mean Absolute Error: 0.16716349710968018\n",
      "Mean Squared Error: 0.05456840780883999\n",
      "Root Mean Squared Error: 0.2335988180809997\n",
      "MAPE: fare_amount    7.61149\n",
      "dtype: float64\n",
      "Accuracy: fare_amount    92.38851\n",
      "dtype: float64\n"
     ]
    }
   ],
   "source": [
    "#calculate Error metrics on test data\n",
    "print(\"R2 Score:\",r2_score(test_target_variable,prediction))\n",
    "print(\"Mean Absolute Error:\",mean_absolute_error(test_target_variable,prediction))\n",
    "print(\"Mean Squared Error:\",mean_squared_error(test_target_variable,prediction))\n",
    "print(\"Root Mean Squared Error:\",np.sqrt(mean_squared_error(test_target_variable,prediction)))\n",
    "print(\"MAPE:\",mean_absolute_percentage_error(test_target_variable,prediction))\n",
    "print(\"Accuracy:\",(100 - mean_absolute_percentage_error(test_target_variable,prediction)))"
   ]
  },
  {
   "cell_type": "code",
   "execution_count": 2991,
   "metadata": {},
   "outputs": [
    {
     "name": "stdout",
     "output_type": "stream",
     "text": [
      "R2 Score: 0.6573791917552663\n",
      "Mean Absolute Error: 0.16362746296163236\n",
      "Mean Squared Error: 0.05192458447834865\n",
      "Root Mean Squared Error: 0.22786966555105279\n",
      "MAPE: fare_amount    7.485074\n",
      "dtype: float64\n",
      "Accuracy: fare_amount    92.514926\n",
      "dtype: float64\n"
     ]
    }
   ],
   "source": [
    "#calculate error metrics on training data\n",
    "pred = Xgb.predict(train_feature_variables)\n",
    "pred = pred.reshape((12336,1))\n",
    "print(\"R2 Score:\",r2_score(train_target_variable,pred))\n",
    "print(\"Mean Absolute Error:\",mean_absolute_error(train_target_variable,pred))\n",
    "print(\"Mean Squared Error:\",mean_squared_error(train_target_variable,pred))\n",
    "print(\"Root Mean Squared Error:\",np.sqrt(mean_squared_error(train_target_variable,pred)))\n",
    "print(\"MAPE:\",mean_absolute_percentage_error(train_target_variable,pred))\n",
    "print(\"Accuracy:\",(100 - mean_absolute_percentage_error(train_target_variable,pred)))"
   ]
  },
  {
   "cell_type": "markdown",
   "metadata": {},
   "source": [
    "### As we can see that Xgboost is the best algorithm for our problem."
   ]
  },
  {
   "cell_type": "markdown",
   "metadata": {},
   "source": [
    "# Prediction of fare from provided test dataset :"
   ]
  },
  {
   "cell_type": "code",
   "execution_count": 2992,
   "metadata": {},
   "outputs": [
    {
     "data": {
      "text/html": [
       "<div>\n",
       "<style scoped>\n",
       "    .dataframe tbody tr th:only-of-type {\n",
       "        vertical-align: middle;\n",
       "    }\n",
       "\n",
       "    .dataframe tbody tr th {\n",
       "        vertical-align: top;\n",
       "    }\n",
       "\n",
       "    .dataframe thead th {\n",
       "        text-align: right;\n",
       "    }\n",
       "</style>\n",
       "<table border=\"1\" class=\"dataframe\">\n",
       "  <thead>\n",
       "    <tr style=\"text-align: right;\">\n",
       "      <th></th>\n",
       "      <th>passenger_count</th>\n",
       "      <th>distance</th>\n",
       "      <th>elapsed_sec</th>\n",
       "    </tr>\n",
       "  </thead>\n",
       "  <tbody>\n",
       "    <tr>\n",
       "      <th>0</th>\n",
       "      <td>1</td>\n",
       "      <td>1.200946</td>\n",
       "      <td>0.934937</td>\n",
       "    </tr>\n",
       "    <tr>\n",
       "      <th>1</th>\n",
       "      <td>1</td>\n",
       "      <td>1.231205</td>\n",
       "      <td>0.934937</td>\n",
       "    </tr>\n",
       "    <tr>\n",
       "      <th>2</th>\n",
       "      <td>1</td>\n",
       "      <td>0.481579</td>\n",
       "      <td>0.425928</td>\n",
       "    </tr>\n",
       "    <tr>\n",
       "      <th>3</th>\n",
       "      <td>1</td>\n",
       "      <td>1.085538</td>\n",
       "      <td>0.603204</td>\n",
       "    </tr>\n",
       "    <tr>\n",
       "      <th>4</th>\n",
       "      <td>1</td>\n",
       "      <td>1.854312</td>\n",
       "      <td>0.603204</td>\n",
       "    </tr>\n",
       "  </tbody>\n",
       "</table>\n",
       "</div>"
      ],
      "text/plain": [
       "   passenger_count  distance  elapsed_sec\n",
       "0                1  1.200946     0.934937\n",
       "1                1  1.231205     0.934937\n",
       "2                1  0.481579     0.425928\n",
       "3                1  1.085538     0.603204\n",
       "4                1  1.854312     0.603204"
      ]
     },
     "execution_count": 2992,
     "metadata": {},
     "output_type": "execute_result"
    }
   ],
   "source": [
    "test_df.head()"
   ]
  },
  {
   "cell_type": "code",
   "execution_count": 2993,
   "metadata": {},
   "outputs": [
    {
     "name": "stdout",
     "output_type": "stream",
     "text": [
      "<class 'pandas.core.frame.DataFrame'>\n",
      "RangeIndex: 9914 entries, 0 to 9913\n",
      "Data columns (total 3 columns):\n",
      "passenger_count    9914 non-null int64\n",
      "distance           9914 non-null float64\n",
      "elapsed_sec        9914 non-null float64\n",
      "dtypes: float64(2), int64(1)\n",
      "memory usage: 232.4 KB\n"
     ]
    }
   ],
   "source": [
    "test_df.info()"
   ]
  },
  {
   "cell_type": "code",
   "execution_count": 2994,
   "metadata": {},
   "outputs": [],
   "source": [
    "test_pred = Xgb.predict(test_df)"
   ]
  },
  {
   "cell_type": "code",
   "execution_count": 2995,
   "metadata": {},
   "outputs": [],
   "source": [
    "test_df.to_csv('test_result.csv')"
   ]
  },
  {
   "cell_type": "code",
   "execution_count": null,
   "metadata": {},
   "outputs": [],
   "source": []
  }
 ],
 "metadata": {
  "kernelspec": {
   "display_name": "Python 3",
   "language": "python",
   "name": "python3"
  },
  "language_info": {
   "codemirror_mode": {
    "name": "ipython",
    "version": 3
   },
   "file_extension": ".py",
   "mimetype": "text/x-python",
   "name": "python",
   "nbconvert_exporter": "python",
   "pygments_lexer": "ipython3",
   "version": "3.7.3"
  }
 },
 "nbformat": 4,
 "nbformat_minor": 2
}
